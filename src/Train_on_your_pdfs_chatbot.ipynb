{
 "cells": [
  {
   "cell_type": "code",
   "execution_count": 1,
   "metadata": {},
   "outputs": [],
   "source": [
    "from langchain.embeddings import OpenAIEmbeddings\n",
    "from langchain.text_splitter import RecursiveCharacterTextSplitter\n",
    "from langchain.llms import OpenAI\n",
    "from langchain.document_loaders import TextLoader\n",
    "from langchain.document_loaders import DirectoryLoader\n",
    "from langchain_community.document_loaders import PyPDFLoader"
   ]
  },
  {
   "cell_type": "code",
   "execution_count": 2,
   "metadata": {},
   "outputs": [],
   "source": [
    "#!pip install pypdf\n",
    "#Load from a directory\n",
    "loader = DirectoryLoader('./pdfs/', glob=\"./*.pdf\", loader_cls=PyPDFLoader) #- We will use this in case of many articles saved in a directory\n",
    "\n",
    "documents = loader.load()"
   ]
  },
  {
   "cell_type": "code",
   "execution_count": 3,
   "metadata": {},
   "outputs": [
    {
     "data": {
      "text/plain": [
       "67"
      ]
     },
     "execution_count": 3,
     "metadata": {},
     "output_type": "execute_result"
    }
   ],
   "source": [
    "#splitting the text into smaller documents \n",
    "text_splitter = RecursiveCharacterTextSplitter(chunk_size=1000, chunk_overlap=200)\n",
    "texts = text_splitter.split_documents(documents)\n",
    "len(texts)"
   ]
  },
  {
   "cell_type": "code",
   "execution_count": 4,
   "metadata": {},
   "outputs": [
    {
     "name": "stdout",
     "output_type": "stream",
     "text": [
      "EDUCATION\n",
      "Jomo Kenyatta University of Technology, Degree , Bachelor of  \n",
      "Science in Computer Technology\n",
      "Kenya, Nairobi\n",
      "2019 – 2022\n",
      "Starehe Boys Centre, High School Diploma\n",
      "Kenya, Nairobi\n",
      "2015 – 2018\n",
      "PROJECTS\n",
      "Miksi AI SDK (2023- 2024).  Lead Software Engineer,\n",
      "Led the development and publication of the Miksi AI SDK on PyPI, \n",
      "ensuring high-quality code and comprehensive documentation.\n",
      "Spearheaded the design of the SDK's architecture, focusing on \n",
      "scalability, modularity, and ease of integration for end-users.\n",
      "Implemented key features and functionalities, including database \n",
      "connections, virtual environment management, and agent \n",
      "configuration.\n",
      "Technologies Used\n",
      "●Programming Languages: Python, JavaScript\n",
      "●Web Frameworks: Django for API development\n",
      "●Database Engines: MySQL, PostgreSQL, MsSQL\n",
      "●Other Tools: PyPI for package distribution, Docker for \n",
      "containerization\n",
      "Outcome\n",
      "●Successfully published the Miksi AI SDK on PyPI, allowing developers\n"
     ]
    }
   ],
   "source": [
    "print(texts[4].page_content)"
   ]
  },
  {
   "cell_type": "code",
   "execution_count": 5,
   "metadata": {},
   "outputs": [],
   "source": [
    "import os\n",
    "from dotenv import load_dotenv\n",
    "from langchain_openai import AzureOpenAIEmbeddings\n",
    "\n"
   ]
  },
  {
   "cell_type": "code",
   "execution_count": 6,
   "metadata": {},
   "outputs": [
    {
     "data": {
      "text/plain": [
       "'\\nAZURE_OPENAI_API_KEY = os.getenv(\\'CHAT_4_API_KEY\\')\\nAZURE_OPENAI_ENDPOINT = os.getenv(\"CHAT_4_API_BASE\")\\nAZURE_OPENAI_VERSION = os.getenv(\"CHAT_4_API_VERSION\")\\nDEPLOYMENT = os.getenv(\"CHAT_4_DEPLOPMENT_NAME\")\\nMODEL = os.getenv(\"embed_model\")\\n\\n\\n# Embed and store the texts\\n#embedding_function = OpenAIEmbeddings(model = \\'text-embedding-ada-002\\',openai_api_key=OPENAI_API_KEY)\\nembeddings_function  = AzureOpenAIEmbeddings(\\n    azure_deployment=\"gpt-35-turbo-16k\",\\n    model=\"text-embedding-3-large\",\\n    openai_api_version=\"2023-07-01-preview\",\\n    azure_endpoint=\"https://miksi.openai.azure.com/\",\\n    api_key=AZURE_OPENAI_API_KEY,\\n)\\n\\nfrom langchain_community.embeddings import HuggingFaceEmbeddings\\n\\nmodel_name = \"sentence-transformers/all-mpnet-base-v2\"\\nmodel_kwargs = {\\'device\\': \\'cpu\\'}\\nencode_kwargs = {\\'normalize_embeddings\\': False}\\nhf = HuggingFaceEmbeddings(\\n    model_name=model_name,\\n    model_kwargs=model_kwargs,\\n    encode_kwargs=encode_kwargs\\n)\\n'"
      ]
     },
     "execution_count": 6,
     "metadata": {},
     "output_type": "execute_result"
    }
   ],
   "source": [
    "\n",
    "# Load environment variables from a .env file\n",
    "# Here I am Using AzureOpenAI\n",
    "load_dotenv()\n",
    "'''\n",
    "AZURE_OPENAI_API_KEY = os.getenv('CHAT_4_API_KEY')\n",
    "AZURE_OPENAI_ENDPOINT = os.getenv(\"CHAT_4_API_BASE\")\n",
    "AZURE_OPENAI_VERSION = os.getenv(\"CHAT_4_API_VERSION\")\n",
    "DEPLOYMENT = os.getenv(\"CHAT_4_DEPLOPMENT_NAME\")\n",
    "MODEL = os.getenv(\"embed_model\")\n",
    "\n",
    "\n",
    "# Embed and store the texts\n",
    "#embedding_function = OpenAIEmbeddings(model = 'text-embedding-ada-002',openai_api_key=OPENAI_API_KEY)\n",
    "embeddings_function  = AzureOpenAIEmbeddings(\n",
    "    azure_deployment=\"gpt-35-turbo-16k\",\n",
    "    model=\"text-embedding-3-large\",\n",
    "    openai_api_version=\"\",\n",
    "    azure_endpoint=\"\",\n",
    "    api_key=AZURE_OPENAI_API_KEY,\n",
    ")\n",
    "\n",
    "from langchain_community.embeddings import HuggingFaceEmbeddings\n",
    "\n",
    "model_name = \"sentence-transformers/all-mpnet-base-v2\"\n",
    "model_kwargs = {'device': 'cpu'}\n",
    "encode_kwargs = {'normalize_embeddings': False}\n",
    "hf = HuggingFaceEmbeddings(\n",
    "    model_name=model_name,\n",
    "    model_kwargs=model_kwargs,\n",
    "    encode_kwargs=encode_kwargs\n",
    ")\n",
    "'''"
   ]
  },
  {
   "cell_type": "code",
   "execution_count": 7,
   "metadata": {},
   "outputs": [],
   "source": [
    "from langchain.embeddings import HuggingFaceBgeEmbeddings\n",
    "from langchain.chains import RetrievalQA\n",
    "from langchain.vectorstores import Chroma"
   ]
  },
  {
   "cell_type": "code",
   "execution_count": 8,
   "metadata": {},
   "outputs": [
    {
     "name": "stdout",
     "output_type": "stream",
     "text": [
      "client=SentenceTransformer(\n",
      "  (0): Transformer({'max_seq_length': 512, 'do_lower_case': True}) with Transformer model: BertModel \n",
      "  (1): Pooling({'word_embedding_dimension': 768, 'pooling_mode_cls_token': True, 'pooling_mode_mean_tokens': False, 'pooling_mode_max_tokens': False, 'pooling_mode_mean_sqrt_len_tokens': False})\n",
      "  (2): Normalize()\n",
      ") model_name='BAAI/bge-base-en' cache_folder=None model_kwargs={'device': 'cpu'} encode_kwargs={'normalize_embeddings': True} query_instruction='Represent this question for searching relevant passages: '\n"
     ]
    }
   ],
   "source": [
    "inference_api_key = os.getenv(\"hg_access_token\")\n",
    "'''\n",
    "from langchain_community.embeddings import HuggingFaceInferenceAPIEmbeddings\n",
    "\n",
    "embeddings = HuggingFaceInferenceAPIEmbeddings(\n",
    "    api_key=inference_api_key, model_name=\"sentence-transformers/all-MiniLM-l6-v2\"\n",
    ")\n",
    "'''\n",
    "\n",
    "\n",
    "embeddings = HuggingFaceBgeEmbeddings(\n",
    "    model_name=\"BAAI/bge-base-en\",\n",
    "    model_kwargs={'device': 'cpu'},\n",
    "    encode_kwargs={'normalize_embeddings': True}\n",
    ")\n",
    "print(embeddings)\n",
    "\n"
   ]
  },
  {
   "cell_type": "code",
   "execution_count": 9,
   "metadata": {},
   "outputs": [],
   "source": [
    "from langchain.vectorstores import Chroma\n"
   ]
  },
  {
   "cell_type": "code",
   "execution_count": 10,
   "metadata": {},
   "outputs": [
    {
     "name": "stdout",
     "output_type": "stream",
     "text": [
      "page_content='Richard Karanu\\nFull Stack Engineer with 4+ years of experience. Strong ownership mindset,  \\nproficient  in  full  stack  technologies,  excellent  communication  and  \\ncollaboration  skills,  and  a  passion  for  learning  and  adapting  to  new  \\ntechnologies.  I  am  enthusiastic  about  software  architecture,  machine  \\nlearning, artificial intelligence, and quantum computing. In my free time, I  \\nenjoy soccer, cycling, and swimming.CONTACT ME\\nofficialforrichardk@gmail.com\\n+254701291911\\nhttps://www.linkedin.com/in/\\nrichard-karanu-94b572241/\\n \\nhttps://github.com/RichardKara\\nnuMbuti\\nWORK EXPERIENCE\\nMiksi                                            Full Stack Engineer\\nCroatia, Zagreb  (Remote )                                      June 2023 -  PRESENT\\n\\uf06cSpearheaded the design of scalable and robust system architectures \\nfor enterprise-level AI agents , by analyzing performance bottlenecks  \\nand reengineering core components, improving system performance by \\n40%.' metadata={'source': 'pdfs/Richard_ Full Stack - June 2024.pdf', 'page': 0}\n"
     ]
    }
   ],
   "source": [
    "\n",
    "# load it into Chroma\n",
    "#db = Chroma.from_documents(texts, embeddings)\n",
    "#query_result = embeddings.embed_query(text)\n",
    "documents = texts\n",
    "print(documents[0])\n",
    "vectordb = Chroma.from_documents(\n",
    "    documents=texts, \n",
    "    embedding=embeddings,\n",
    "    persist_directory='db')"
   ]
  },
  {
   "cell_type": "code",
   "execution_count": 11,
   "metadata": {},
   "outputs": [],
   "source": [
    "from langchain.llms import AzureOpenAI\n",
    "from langchain.chat_models import AzureChatOpenAI"
   ]
  },
  {
   "cell_type": "code",
   "execution_count": 12,
   "metadata": {},
   "outputs": [
    {
     "name": "stderr",
     "output_type": "stream",
     "text": [
      "/home/acelogic/Jupyter Environs/langchain/venv/lib/python3.11/site-packages/langchain_core/_api/deprecation.py:119: LangChainDeprecationWarning: The class `AzureChatOpenAI` was deprecated in LangChain 0.0.10 and will be removed in 0.2.0. An updated version of the class exists in the langchain-openai package and should be used instead. To use it run `pip install -U langchain-openai` and import as `from langchain_openai import AzureChatOpenAI`.\n",
      "  warn_deprecated(\n",
      "/home/acelogic/Jupyter Environs/langchain/venv/lib/python3.11/site-packages/langchain_community/chat_models/azure_openai.py:167: UserWarning: As of openai>=1.0.0, Azure endpoints should be specified via the `azure_endpoint` param not `openai_api_base` (or alias `base_url`). Updating `openai_api_base` from https://miksieastus2.openai.azure.com/ to https://miksieastus2.openai.azure.com/openai.\n",
      "  warnings.warn(\n",
      "/home/acelogic/Jupyter Environs/langchain/venv/lib/python3.11/site-packages/langchain_community/chat_models/azure_openai.py:174: UserWarning: As of openai>=1.0.0, if `deployment_name` (or alias `azure_deployment`) is specified then `openai_api_base` (or alias `base_url`) should not be. Instead use `deployment_name` (or alias `azure_deployment`) and `azure_endpoint`.\n",
      "  warnings.warn(\n",
      "/home/acelogic/Jupyter Environs/langchain/venv/lib/python3.11/site-packages/langchain_community/chat_models/azure_openai.py:182: UserWarning: As of openai>=1.0.0, if `openai_api_base` (or alias `base_url`) is specified it is expected to be of the form https://example-resource.azure.openai.com/openai/deployments/example-deployment. Updating https://miksieastus2.openai.azure.com/ to https://miksieastus2.openai.azure.com/openai.\n",
      "  warnings.warn(\n"
     ]
    }
   ],
   "source": [
    "\n",
    "# Initialize an instance of AzureOpenAI using the specified settings\n",
    "AZURE_OPENAI_API_KEY = os.getenv('CHAT_4_API_KEY')\n",
    "AZURE_OPENAI_ENDPOINT = os.getenv(\"CHAT_4_API_BASE\")\n",
    "AZURE_OPENAI_VERSION = os.getenv(\"CHAT_4_API_VERSION\")\n",
    "DEPLOYMENT = os.getenv(\"CHAT_4_DEPLOPMENT_NAME\")\n",
    "\n",
    "\n",
    "llm = AzureChatOpenAI(\n",
    "    openai_api_version=AZURE_OPENAI_VERSION,\n",
    "    openai_api_key=AZURE_OPENAI_API_KEY,\n",
    "    openai_api_base=AZURE_OPENAI_ENDPOINT,\n",
    "    #openai_api_type=OPENAI_API_TYPE,\n",
    "    deployment_name=DEPLOYMENT  # Name of the deployment for identification\n",
    ")\n"
   ]
  },
  {
   "cell_type": "code",
   "execution_count": 13,
   "metadata": {},
   "outputs": [
    {
     "name": "stderr",
     "output_type": "stream",
     "text": [
      "/home/acelogic/Jupyter Environs/langchain/venv/lib/python3.11/site-packages/langchain_core/_api/deprecation.py:119: LangChainDeprecationWarning: The method `Chain.__call__` was deprecated in langchain 0.1.0 and will be removed in 0.2.0. Use invoke instead.\n",
      "  warn_deprecated(\n"
     ]
    },
    {
     "data": {
      "text/plain": [
       "{'query': 'When did IBM acquire Red Hat?',\n",
       " 'result': 'IBM acquired Red Hat on July 9, 2019.',\n",
       " 'source_documents': [Document(page_content='satisfaction and retention rates.\\n\\uf06cFostered strong relationships with frontend teams, by maintaining open \\ncommunication channels and creating detailed technical \\ndocumentation, ensuring seamless integration and comprehensive \\ndocumentation.TECHNOLOGIES\\nProgramming Languages\\n      Proficient\\n  Python, Java,  JavaScript\\n      Familiar\\n   C++, C#, Go\\nWeb Frameworks\\nSpringBoot (Java), Django \\n(Python), React.js (JavaScript), \\nVue.js (JavaScript), Tailwind, \\nBootstrap\\nMobile Apps\\nReact-Native, Dart , Flutter\\nCloud & Deployment\\nDocker, Azure, Azure DevOps, \\nGit, GitHub\\nDatabases\\nPostgreSQL, MySQL, MongoDB, \\nFirebase firestore, Redis, \\nCassandra\\nOthers\\nIntermediate data science and \\nmachine learning, Linux server \\nadministration, Cross-platform \\npackage development, \\nDocumentation (Postman & \\nSwagger UI)\\nLangchain', metadata={'page': 0, 'source': 'pdfs/Richard_ Full Stack - June 2024.pdf'}),\n",
       "  Document(page_content='Dowell Research               Contractor Backend Engineer\\nUK       (Remote)                                                                     Oct  2022  - May \\n2023\\n\\uf06cActively collaborated with frontend teams to develop RESTful APIs \\nand WebSocket connections, by organizing regular sync meetings and \\nusing API documentation tools like Swagger, enhancing app \\nresponsiveness and user engagement.\\n\\uf06cEngineered database systems, by optimizing query structures and \\nindexing critical tables, reducing data retrieval times by 20%.\\n\\uf06cDeveloped server-side application logic, by implementing robust \\nauthentication and data validation mechanisms, increasing system \\nreliability and user interaction.\\n\\uf06cImplemented WebSockets for real-time communication, by integrating \\nWebSocket protocols and optimizing connection handling, boosting user  \\nsatisfaction and retention rates.\\n\\uf06cFostered strong relationships with frontend teams, by maintaining open \\ncommunication channels and creating detailed technical', metadata={'page': 0, 'source': 'pdfs/Richard_ Full Stack - June 2024.pdf'}),\n",
       "  Document(page_content='for enterprise-level AI agents , by analyzing performance bottlenecks  \\nand reengineering core components, improving system performance by \\n40%.\\n\\uf06cDirected a team of 2 developers and a data scientist, by implementing \\nagile methodologies and conducting regular code reviews, increasing \\nteam productivity by 15%.\\n\\uf06cManaged the project lifecycle from conceptualization to deployment, by \\nutilizing project management tools and clear communication strategies, \\nachieving 100% on-time delivery.\\n\\uf06cImplemented CI/CD pipelines, by automating testing  and \\ndeployment processes with github actions and Docker, reducing \\ndeployment times by 30%.\\n\\uf06cDeveloped monitoring systems for AI agents, by integrating tools like \\nPrometheus and langsmith to track performance metrics, improving \\ndecision-making and strategic planning.\\nDowell Research               Contractor Backend Engineer\\nUK       (Remote)                                                                     Oct  2022  - May \\n2023', metadata={'page': 0, 'source': 'pdfs/Richard_ Full Stack - June 2024.pdf'}),\n",
       "  Document(page_content=\"●Database Engines: MySQL, PostgreSQL, MsSQL\\n●Other Tools: PyPI for package distribution, Docker for \\ncontainerization\\nOutcome\\n●Successfully published the Miksi AI SDK on PyPI, allowing developers \\nto easily install and integrate it into their projects (pip install \\nmiksi_ai_sdk).\\n●Designed and implemented a robust system for managing database \\nconnections and executing SQL queries securely, supporting major \\nSQL engines such as MySQL, PostgreSQL, and MsSQL.\\n●Facilitated seamless integration of Miksi AI agents with custom \\ninstructions in natural language, enhancing the user experience and \\nexpanding the SDK's capabilities.\\n●The project achieved a 40% improvement in system performance \\nand a 30% reduction in deployment times due to efficient system \\narchitecture and CI/CD pipeline implementation.LANGUAGES\\nEnglish C2, fluent\\nSwahili , Native\\nINTERESTS\\nSoftware Architecture, Machine  \\nLearning, Artificial Intelligence, \\nQuantum Computing\\nHOBBIES\\nSoccer, Cycling, Swimming\", metadata={'page': 1, 'source': 'pdfs/Richard_ Full Stack - June 2024.pdf'}),\n",
       "  Document(page_content='Richard Karanu\\nFull Stack Engineer with 4+ years of experience. Strong ownership mindset,  \\nproficient  in  full  stack  technologies,  excellent  communication  and  \\ncollaboration  skills,  and  a  passion  for  learning  and  adapting  to  new  \\ntechnologies.  I  am  enthusiastic  about  software  architecture,  machine  \\nlearning, artificial intelligence, and quantum computing. In my free time, I  \\nenjoy soccer, cycling, and swimming.CONTACT ME\\nofficialforrichardk@gmail.com\\n+254701291911\\nhttps://www.linkedin.com/in/\\nrichard-karanu-94b572241/\\n \\nhttps://github.com/RichardKara\\nnuMbuti\\nWORK EXPERIENCE\\nMiksi                                            Full Stack Engineer\\nCroatia, Zagreb  (Remote )                                      June 2023 -  PRESENT\\n\\uf06cSpearheaded the design of scalable and robust system architectures \\nfor enterprise-level AI agents , by analyzing performance bottlenecks  \\nand reengineering core components, improving system performance by \\n40%.', metadata={'page': 0, 'source': 'pdfs/Richard_ Full Stack - June 2024.pdf'})]}"
      ]
     },
     "execution_count": 13,
     "metadata": {},
     "output_type": "execute_result"
    }
   ],
   "source": [
    "qa_chain = RetrievalQA.from_chain_type(\n",
    "    llm=llm,\n",
    "    chain_type=\"stuff\", \n",
    "    retriever=vectordb.as_retriever(search_kwargs={\"k\": 5}), \n",
    "    return_source_documents=True)\n",
    "query = \"When did IBM acquire Red Hat?\"\n",
    "qa_chain(query)"
   ]
  },
  {
   "cell_type": "code",
   "execution_count": 14,
   "metadata": {},
   "outputs": [],
   "source": [
    "from langchain_core.prompts import PromptTemplate"
   ]
  },
  {
   "cell_type": "code",
   "execution_count": 15,
   "metadata": {},
   "outputs": [
    {
     "name": "stderr",
     "output_type": "stream",
     "text": [
      "/home/acelogic/Jupyter Environs/langchain/venv/lib/python3.11/site-packages/langchain_core/_api/deprecation.py:119: LangChainDeprecationWarning: The method `Chain.run` was deprecated in langchain 0.1.0 and will be removed in 0.2.0. Use invoke instead.\n",
      "  warn_deprecated(\n"
     ]
    },
    {
     "data": {
      "text/plain": [
       "\"Richard Karanu is a Full Stack Engineer with over 4 years of experience. He has a strong ownership mindset, is proficient in full stack technologies, and possesses excellent communication and collaboration skills. He is passionate about software architecture, machine learning, artificial intelligence, and quantum computing. He has a Bachelor's degree in Computer Technology from Jomo Kenyatta University of Technology and a High School Diploma from Starehe Boys Centre. He currently works as a Full Stack Engineer at Miksi in Zagreb, Croatia, where he has spearheaded the design of scalable and robust system architectures for enterprise-level AI agents.\\n\\nReferences:\\n\\nHart, S. L., & Banbury, C. (1994). How strategy-making processes can make a difference. Strategic Management Journal, 15(4), 251-269.\\n\\nBarnard, C. (1938). The Functions of the Executive. Cambridge, MA: Harvard University Press.\\n\\nSimon, H. A. (1947). Administrative Behavior: A Study of Decision-Making Processes in Administrative Organizations. New York: Macmillan.\\n\\nSimon, H. A. (1978). Rationality as Process and as Product of Thought. American Economic Review, 68(2), 1-16.\\n\\nSimon, H. A. (1979). Models of Thought. Yale University Press.\\n\\nSimon, H. A. (1982). Models of Bounded Rationality. MIT Press.\\n\\nCyert, R. M., & March, J. G. (1963). A Behavioral Theory of the Firm. Englewood Cliffs, NJ: Prentice-Hall.\\n\\nMarch, J. G., & Simon, H. A. (1958). Organizations. New York: Wiley.\""
      ]
     },
     "execution_count": 15,
     "metadata": {},
     "output_type": "execute_result"
    }
   ],
   "source": [
    "\n",
    "prompt_template = \"\"\"\n",
    "Use the following pieces of context to answer the question at the end. \n",
    "Only give the answer from the provided context and documents, not your own knowledge.\n",
    "Reurn a list of references in APA format\n",
    "\n",
    " . \n",
    "\n",
    "{context}\n",
    "\n",
    "Question: {question}\n",
    "\"\"\"\n",
    "PROMPT = PromptTemplate(\n",
    "    template=prompt_template, input_variables=[\"context\", \"question\"]\n",
    ")\n",
    "\n",
    "chain_type_kwargs = {\"prompt\": PROMPT}\n",
    "qa_chain = RetrievalQA.from_chain_type(\n",
    "    llm=llm,\n",
    "    chain_type=\"stuff\", \n",
    "    retriever=vectordb.as_retriever(), \n",
    "    chain_type_kwargs=chain_type_kwargs)\n",
    "query = \"who is Richard Karanus ?\"\n",
    "qa_chain.run(query)"
   ]
  },
  {
   "cell_type": "code",
   "execution_count": 16,
   "metadata": {},
   "outputs": [],
   "source": [
    "from langchain.chains import ConversationChain\n",
    "from langchain.chains.conversation.memory import ConversationBufferMemory\n"
   ]
  },
  {
   "cell_type": "code",
   "execution_count": 17,
   "metadata": {},
   "outputs": [],
   "source": [
    "# Add Bot memory\n",
    "\n",
    "memory = ConversationBufferMemory(\n",
    "                                    memory_key=\"chat_history\",\n",
    "                                    max_len=50,\n",
    "                                    return_messages=True,\n",
    "                                )"
   ]
  },
  {
   "cell_type": "code",
   "execution_count": 18,
   "metadata": {},
   "outputs": [],
   "source": [
    "retriever = vectordb.as_retriever()"
   ]
  },
  {
   "cell_type": "code",
   "execution_count": 19,
   "metadata": {},
   "outputs": [],
   "source": [
    "from langchain.chains import ConversationalRetrievalChain"
   ]
  },
  {
   "cell_type": "code",
   "execution_count": 20,
   "metadata": {},
   "outputs": [],
   "source": [
    "template = \"\"\"You are a helpful assistant that answers the user questions\".\n",
    "\n",
    "            Chat history: {chat_history}\n",
    "\n",
    "            User question: {question}\n",
    "            Assistant: \"\"\"\n",
    "\n",
    "prompt = PromptTemplate.from_template(template=template)\n",
    "\n",
    "\n"
   ]
  },
  {
   "cell_type": "code",
   "execution_count": 21,
   "metadata": {},
   "outputs": [],
   "source": [
    "memory = ConversationBufferMemory(memory_key='chat_history', \n",
    "                                  max_len=50,\n",
    "                                  return_messages=True, output_key='answer')\n",
    "\n",
    "# Create the multipurpose chain\n",
    "qachat = ConversationalRetrievalChain.from_llm(\n",
    "    llm=llm,\n",
    "    memory=memory,\n",
    "    retriever=retriever, \n",
    "    return_source_documents=True\n",
    ")"
   ]
  },
  {
   "cell_type": "code",
   "execution_count": 22,
   "metadata": {},
   "outputs": [
    {
     "data": {
      "text/plain": [
       "[]"
      ]
     },
     "execution_count": 22,
     "metadata": {},
     "output_type": "execute_result"
    }
   ],
   "source": [
    "# View Stored Messages\n",
    "memory.chat_memory.messages"
   ]
  },
  {
   "cell_type": "code",
   "execution_count": 23,
   "metadata": {},
   "outputs": [],
   "source": [
    "def run(question):\n",
    "    answer1 = qachat(question)\n",
    "    return answer1\n",
    "\n",
    "\n",
    "    "
   ]
  },
  {
   "cell_type": "code",
   "execution_count": 24,
   "metadata": {},
   "outputs": [
    {
     "data": {
      "text/plain": [
       "{'question': 'in 6-7 major paragraphs  tell me about Bounded Rationality In Decision-Making',\n",
       " 'chat_history': [HumanMessage(content='in 6-7 major paragraphs  tell me about Bounded Rationality In Decision-Making'),\n",
       "  AIMessage(content='Bounded rationality is a concept that challenges the traditional notion of rational decision-making. Introduced by Herbert A. Simon, it acknowledges that the cognitive limitations of individuals restrict their ability to process information and make fully rational decisions. Unlike the classical economic theory, which assumes that individuals have access to all information and can process it flawlessly to maximize their utility, bounded rationality recognizes that individuals operate under constraints of both knowledge and computational capacity. These constraints significantly impact the decision-making process, leading to choices that are rational within the limits of their understanding and abilities, rather than being perfectly rational.\\n\\nOne of the primary factors contributing to bounded rationality is the limitation of knowledge. Individuals often do not have access to all the necessary information to make an optimal decision. Even when information is available, it may be incomplete, outdated, or unreliable. This limitation forces decision-makers to rely on heuristics or rules of thumb, which are simplified strategies derived from past experiences. While heuristics can often lead to satisfactory decisions, they can also result in systematic biases and errors.\\n\\nComputational capacity is another major constraint in bounded rationality. The human brain, while powerful, has limited processing abilities. Simon (1947) famously described the modern information processing environment as an \"extremely rich soup of information,\" where the real scarcity lies not in information itself but in the capacity to process it. This bottleneck becomes more pronounced at higher levels within organizations, where complex decisions require synthesizing vast amounts of data. As a result, decision-makers at these levels must prioritize certain pieces of information over others, often leading to suboptimal outcomes.\\n\\nThe behavioral theory of the firm, developed by Cyert and March (1963), integrates the concept of bounded rationality by examining how actual decision-making processes influence organizational actions. This theory suggests that firms do not aim to maximize profits in the classical sense but rather to achieve satisfactory levels of performance based on limited information and computational abilities. Organizational routines, standard operating procedures, and learning processes emerge as mechanisms to cope with bounded rationality, helping firms navigate complexity and uncertainty.\\n\\nRecent research in behavioral decision-making processes has further explored how learning can mitigate the effects of bounded rationality. Studies by Paul & Fischhoff (1977), Busemeyer & Bruza (2012), and Gonzalez & Pegah (2017) have examined how individuals and organizations can improve their decision-making capabilities through experience and feedback. Learning allows decision-makers to refine their heuristics, better recognize patterns, and adjust their strategies based on past outcomes. This ongoing process of learning and adaptation helps to partially overcome the limitations imposed by bounded rationality.\\n\\nAdditionally, bounded rationality has significant implications for economic theory and practice. Traditional economic models, which assume fully rational actors, often fail to predict real-world behaviors accurately. By incorporating bounded rationality, economists and policymakers can develop more realistic models that account for human limitations. This shift can lead to better-designed policies and interventions that align more closely with how people actually make decisions, ultimately improving outcomes in areas such as consumer behavior, public policy, and organizational management.\\n\\nIn conclusion, bounded rationality provides a more nuanced and realistic understanding of decision-making processes. It recognizes that individuals operate under constraints of knowledge and computational capacity, leading to decisions that are rational within these limits rather than perfectly rational. The concept has profound implications for both theoretical and practical approaches to economics and management, highlighting the importance of heuristics, learning, and adaptive strategies in navigating complex decision-making environments. By acknowledging and addressing the limitations of bounded rationality, individuals and organizations can improve their decision-making processes and achieve better outcomes in an increasingly complex world.')],\n",
       " 'answer': 'Bounded rationality is a concept that challenges the traditional notion of rational decision-making. Introduced by Herbert A. Simon, it acknowledges that the cognitive limitations of individuals restrict their ability to process information and make fully rational decisions. Unlike the classical economic theory, which assumes that individuals have access to all information and can process it flawlessly to maximize their utility, bounded rationality recognizes that individuals operate under constraints of both knowledge and computational capacity. These constraints significantly impact the decision-making process, leading to choices that are rational within the limits of their understanding and abilities, rather than being perfectly rational.\\n\\nOne of the primary factors contributing to bounded rationality is the limitation of knowledge. Individuals often do not have access to all the necessary information to make an optimal decision. Even when information is available, it may be incomplete, outdated, or unreliable. This limitation forces decision-makers to rely on heuristics or rules of thumb, which are simplified strategies derived from past experiences. While heuristics can often lead to satisfactory decisions, they can also result in systematic biases and errors.\\n\\nComputational capacity is another major constraint in bounded rationality. The human brain, while powerful, has limited processing abilities. Simon (1947) famously described the modern information processing environment as an \"extremely rich soup of information,\" where the real scarcity lies not in information itself but in the capacity to process it. This bottleneck becomes more pronounced at higher levels within organizations, where complex decisions require synthesizing vast amounts of data. As a result, decision-makers at these levels must prioritize certain pieces of information over others, often leading to suboptimal outcomes.\\n\\nThe behavioral theory of the firm, developed by Cyert and March (1963), integrates the concept of bounded rationality by examining how actual decision-making processes influence organizational actions. This theory suggests that firms do not aim to maximize profits in the classical sense but rather to achieve satisfactory levels of performance based on limited information and computational abilities. Organizational routines, standard operating procedures, and learning processes emerge as mechanisms to cope with bounded rationality, helping firms navigate complexity and uncertainty.\\n\\nRecent research in behavioral decision-making processes has further explored how learning can mitigate the effects of bounded rationality. Studies by Paul & Fischhoff (1977), Busemeyer & Bruza (2012), and Gonzalez & Pegah (2017) have examined how individuals and organizations can improve their decision-making capabilities through experience and feedback. Learning allows decision-makers to refine their heuristics, better recognize patterns, and adjust their strategies based on past outcomes. This ongoing process of learning and adaptation helps to partially overcome the limitations imposed by bounded rationality.\\n\\nAdditionally, bounded rationality has significant implications for economic theory and practice. Traditional economic models, which assume fully rational actors, often fail to predict real-world behaviors accurately. By incorporating bounded rationality, economists and policymakers can develop more realistic models that account for human limitations. This shift can lead to better-designed policies and interventions that align more closely with how people actually make decisions, ultimately improving outcomes in areas such as consumer behavior, public policy, and organizational management.\\n\\nIn conclusion, bounded rationality provides a more nuanced and realistic understanding of decision-making processes. It recognizes that individuals operate under constraints of knowledge and computational capacity, leading to decisions that are rational within these limits rather than perfectly rational. The concept has profound implications for both theoretical and practical approaches to economics and management, highlighting the importance of heuristics, learning, and adaptive strategies in navigating complex decision-making environments. By acknowledging and addressing the limitations of bounded rationality, individuals and organizations can improve their decision-making processes and achieve better outcomes in an increasingly complex world.',\n",
       " 'source_documents': [Document(page_content='International Journal of Research in Business Studies and Managem ent \\nVolume 5, Issue 10, 2018, PP 48-57 \\nISSN 2394 -5923 (Print) & ISSN 2394 -5931 (Online)   \\n \\n \\nInternational Journal of Research in Business Studies and Management V5 ● I10 ● 2018                          48 \\nBounded Rationality In Decision -Making  \\n1José G. Vargas -Hernández, M.B.A, Ph.D., 2Ricardo Pérez Ortega  \\n1University Center forEconomic and ManagerialSciences.University of Guadalajara  \\nPeriférico Norte 799, Edif G201 -7, Núcleo Universitario Los Belenes  \\nZapopan, Jalisco, 45100, México  \\n2Maestría en Negocios y Estudios Económicos.  \\nCentro Universitario de Ciencias Económico Administrativas. Universidad de Guadalajara  \\nPeriférico Norte 799, Ed if G201 -7, Núcleo Universitario Los Belenes  \\nZapopan, Jalisco, 45100, México  \\n*Corresponding Author: José G. Vargas -Hernández, M.B.A.; Ph.D , 1University Center forEconomic', metadata={'page': 0, 'source': 'pdfs/5.pdf'}),\n",
       "  Document(page_content='Bounded Rationality In Decision -Making  \\n55                         International Journal of Research in Business Studies and Management V5 ● I10 ● 2018  RESEARCH METHODS  \\nThe present investigation is of descriptive \\ncharacter, being a qualitative analysis that \\nfollows from the understanding of the \\nbehavioral theory of the firm of Simon (1947, \\n2000; Cyert and March, 1963), the theory of the \\nbehavior of the decisions, (Paul & Fischhoff \\n1977; Busemeyer & Bruza, 2012; Gonzalez & Pegah, 2017), in terms of behavioral decision -\\nmaking processes and their analysis through \\nlearning, which significantly influence the \\nprocess of making decisions that help mitigate \\nrationality bounded to a certain degree due to \\nthis key factor, which is learning.  \\n \\nSources:  Own elaboration with information from Natural Reviews, Neurocience. Volume 9. July 2008 . \\nFigure 2. Behavioral process of decisions.  \\nAs can be seen in figure 2, the main difference', metadata={'page': 7, 'source': 'pdfs/5.pdf'}),\n",
       "  Document(page_content='Bounded Rationality In Decision -Making  \\n57                         International Journal of Research in Business Studies and Management V5 ● I10 ● 2018  processes, recent research has reduced the \\ncontrol tasks to its fundamental  \\nREFERENCES  \\n[1] Aguirre, R. J. (2007). Aproximación a la teoría de \\nla decisión. Lúmina, 108 -122. \\n[2] Aumann, R. J. (1997). Rationality and Bounded \\nRationality. Games and economic Behavior, 2 -14. \\n[3] Barnard, C. (1938). The functions of the \\nexecutive. Cambridge: MA: Harvard Univer sity \\npress.  \\n[4] Barnard, C. I. (1938). The Functions of the \\nExecutive (thirtieth Anniversary ed). Cambridge: \\nHarvard university press.   \\n[5] Busemeyer, J. R., &Bruza, P. (2012). Quantum \\nmodels of cognition and decision. New York: \\nCambride University Press.    Conslick, J. (1996). \\nWhy bounded rationality? Journal of Economic \\nLiterature, American Economic Association, 669 -\\n700. \\n[6] Cyert, R. M., & March, J. G. (1963). A behavioral', metadata={'page': 9, 'source': 'pdfs/5.pdf'}),\n",
       "  Document(page_content=\"Bounded Rationality In Decision -Making  \\nInternational Journal of Research in Business Studies and Management V5 ● I10 ● 2018                          54 account the cognitive limitations of the per son \\nresponsible for decision making, limitations of \\nboth knowledge and computational capacity. \\nBounded rationality is a central issue in the \\nbehavioral approach to economics, which is \\ndeeply rooted in the ways in which the actual \\ndecision -making process in fluences the actions \\nthat are taken.  \\nConsidering the brain as a scarce resource, \\nSimon (1947) states that the information \\nprocessing systems of modern civilization swim \\nin an extremely rich soup of information. In a \\nworld of this kind, the scarce resource is not \\ninformation; it is the processing capacity to \\nattend to the information. Attention is the main \\nbottleneck in the organization's activity, and the \\nbottleneck becomes increasingly narrow as we \\nmove towards the top of the organizations.\", metadata={'page': 6, 'source': 'pdfs/5.pdf'})]}"
      ]
     },
     "execution_count": 24,
     "metadata": {},
     "output_type": "execute_result"
    }
   ],
   "source": [
    "question = \"in 6-7 major paragraphs  tell me about Bounded Rationality In Decision-Making\"\n",
    "run(question)"
   ]
  },
  {
   "cell_type": "code",
   "execution_count": null,
   "metadata": {},
   "outputs": [],
   "source": []
  },
  {
   "cell_type": "code",
   "execution_count": 28,
   "metadata": {},
   "outputs": [
    {
     "name": "stdout",
     "output_type": "stream",
     "text": [
      "[Document(page_content='International Journal of Research in Business Studies and Managem ent \\nVolume 5, Issue 10, 2018, PP 48-57 \\nISSN 2394 -5923 (Print) & ISSN 2394 -5931 (Online)   \\n \\n \\nInternational Journal of Research in Business Studies and Management V5 ● I10 ● 2018                          48 \\nBounded Rationality In Decision -Making  \\n1José G. Vargas -Hernández, M.B.A, Ph.D., 2Ricardo Pérez Ortega  \\n1University Center forEconomic and ManagerialSciences.University of Guadalajara  \\nPeriférico Norte 799, Edif G201 -7, Núcleo Universitario Los Belenes  \\nZapopan, Jalisco, 45100, México  \\n2Maestría en Negocios y Estudios Económicos.  \\nCentro Universitario de Ciencias Económico Administrativas. Universidad de Guadalajara  \\nPeriférico Norte 799, Ed if G201 -7, Núcleo Universitario Los Belenes  \\nZapopan, Jalisco, 45100, México  \\n*Corresponding Author: José G. Vargas -Hernández, M.B.A.; Ph.D , 1University Center forEconomic', metadata={'page': 0, 'source': 'pdfs/5.pdf'}), Document(page_content='Bounded Rationality In Decision -Making  \\n55                         International Journal of Research in Business Studies and Management V5 ● I10 ● 2018  RESEARCH METHODS  \\nThe present investigation is of descriptive \\ncharacter, being a qualitative analysis that \\nfollows from the understanding of the \\nbehavioral theory of the firm of Simon (1947, \\n2000; Cyert and March, 1963), the theory of the \\nbehavior of the decisions, (Paul & Fischhoff \\n1977; Busemeyer & Bruza, 2012; Gonzalez & Pegah, 2017), in terms of behavioral decision -\\nmaking processes and their analysis through \\nlearning, which significantly influence the \\nprocess of making decisions that help mitigate \\nrationality bounded to a certain degree due to \\nthis key factor, which is learning.  \\n \\nSources:  Own elaboration with information from Natural Reviews, Neurocience. Volume 9. July 2008 . \\nFigure 2. Behavioral process of decisions.  \\nAs can be seen in figure 2, the main difference', metadata={'page': 7, 'source': 'pdfs/5.pdf'}), Document(page_content='Bounded Rationality In Decision -Making  \\n57                         International Journal of Research in Business Studies and Management V5 ● I10 ● 2018  processes, recent research has reduced the \\ncontrol tasks to its fundamental  \\nREFERENCES  \\n[1] Aguirre, R. J. (2007). Aproximación a la teoría de \\nla decisión. Lúmina, 108 -122. \\n[2] Aumann, R. J. (1997). Rationality and Bounded \\nRationality. Games and economic Behavior, 2 -14. \\n[3] Barnard, C. (1938). The functions of the \\nexecutive. Cambridge: MA: Harvard Univer sity \\npress.  \\n[4] Barnard, C. I. (1938). The Functions of the \\nExecutive (thirtieth Anniversary ed). Cambridge: \\nHarvard university press.   \\n[5] Busemeyer, J. R., &Bruza, P. (2012). Quantum \\nmodels of cognition and decision. New York: \\nCambride University Press.    Conslick, J. (1996). \\nWhy bounded rationality? Journal of Economic \\nLiterature, American Economic Association, 669 -\\n700. \\n[6] Cyert, R. M., & March, J. G. (1963). A behavioral', metadata={'page': 9, 'source': 'pdfs/5.pdf'}), Document(page_content=\"Bounded Rationality In Decision -Making  \\nInternational Journal of Research in Business Studies and Management V5 ● I10 ● 2018                          54 account the cognitive limitations of the per son \\nresponsible for decision making, limitations of \\nboth knowledge and computational capacity. \\nBounded rationality is a central issue in the \\nbehavioral approach to economics, which is \\ndeeply rooted in the ways in which the actual \\ndecision -making process in fluences the actions \\nthat are taken.  \\nConsidering the brain as a scarce resource, \\nSimon (1947) states that the information \\nprocessing systems of modern civilization swim \\nin an extremely rich soup of information. In a \\nworld of this kind, the scarce resource is not \\ninformation; it is the processing capacity to \\nattend to the information. Attention is the main \\nbottleneck in the organization's activity, and the \\nbottleneck becomes increasingly narrow as we \\nmove towards the top of the organizations.\", metadata={'page': 6, 'source': 'pdfs/5.pdf'}), Document(page_content='The behavioral theory of the firm takes from the \\ntheory of games, and research of operations, \\nbetween several branches of social sciences in \\nwhich there is interdependence and \\ncomplementarity; models to express a way of \\nanticipating problems, and simulate a so lution of them in a given context. This document will not \\naddress these models in detail.  \\nWhy bounded rationality? Answering this \\nquestion is not possible only in one way, that is \\nwhy Conslick (1996) provides four reasons; the \\nfirst, there is abundant empirical evidence that is \\nimportant. Second, models of bounded \\nrationality prove themselves. Third, \\njustifications that assume that rationality is not \\nbounded are not convincing in general. Fourth, \\nthe deliberation of an economic decision is a \\ncostly acti vity and a good economic decision \\nrequires that all costs be covered.  \\nBACKGROUND OF THE STUDY OF BOUNDED \\nRATIONALITY IN DECISION MAKING  \\nIn recent years there has been growing interest', metadata={'page': 1, 'source': 'pdfs/5.pdf'}), Document(page_content='Bounded Rationality In Decision -Making  \\n53                         International Journal of Research in Business Studies and Management V5 ● I10 ● 2018   \\n \\nSource:  Own elaboration with data from Simon (1982) and Mintzberg et. to the. (2001).  \\nFigure 1. Comparison of the states of the decision  process.  \\nBehavioral Theory of t he Firm  \\nThe behavioral theory of the firm has had an \\nenormous influence on the theory of \\norganization, strategic management, and socio -\\nscientific research fields. Its central concept s \\nhave given motivation and foundation of \\ntheoretical and empirical works focused on the \\norganizational phenomenon. In the present \\ninvestigation the behavioral theory of the firm is \\nused to explain the relationship in decision \\nmaking and bounded rationalit y. The authors are \\nmentioned, Barnad (1938) studied the functions \\nof executives; where he emphasized the role of \\nthe individual personality in the informal \\norganization, which subsists against the current', metadata={'page': 5, 'source': 'pdfs/5.pdf'}), Document(page_content='schemes, indicates the steps for a decision to be \\nrational (Eduards,  The theory of decision \\nmaking , 1954). The people in charge try to do it \\nthis way, but in the real world it is not always \\npossible. It is argued that an adequate study of \\nhuman behavior in organizations should take \\ninto account the motivational, attitude a nd \\nrational aspects of human behavior. In this way, \\nboth the works of economists on planning \\nprocesses and the work of psychologists on ABSTRACT  \\nThe purpose of this paper is to study the relationship between rationality and decision making. As a specific \\nobjective it will be explained the benefit of learning in the decision  making process derived from its results.  \\nThe research question is: How does bounded rationality impact the decision making of organizations? The \\ninitial hypothesis is that the organization, as a social system, seeks to maintain the balance between the', metadata={'page': 0, 'source': 'pdfs/5.pdf'}), Document(page_content='Why bounded rationality? Journal of Economic \\nLiterature, American Economic Association, 669 -\\n700. \\n[6] Cyert, R. M., & March, J. G. (1963). A behavioral \\ntheory of the firm. Upper Saddle River, NJ, US: \\nPrentice Hall/Pearson Education.  \\n[7] Eduards , W. (1954). The theory of decision \\nmaking. psycologicalboletin.   \\n[8] Eduards, W. (1962). Utility, subjective \\nprobability, their interaction. PSYCHOLOGICAL \\nBULLETIN Vol. 51 No. 4, 380 -411. \\n[9] Egan, A. (2007). Some Counterexamples to \\nCausal Decision Theory. Philos ophical Review \\n(116), 93 -114. \\n[10] Elster, J. (1990). The limits of rationality. \\nChicago: University of chicago press.  \\n[11] Gonzalez, C. (2012). Training decisions from \\nexperience with decision making games. Apative \\ntechnologies for training and education 167 -178. \\nPittsburg: Cambridge University Press.   \\n[12] Gonzalez, C., & Pegah, F. (2017). Dynamic \\nDecision Making: Learning Processes and new \\nreseach direction. At the front of HF/E (invited', metadata={'page': 9, 'source': 'pdfs/5.pdf'}), Document(page_content='formulate and solve complex problems is very \\nsmall compared to the size of the problems, \\nwhose solution is necessary for objectively \\nrational behavior in the real world, instrumental \\nrationality becomes, so to speak, bounded \\nrationality.  \\nThe Theory of the instrumental rationality or \\nrational choice, assumes that, in a situation of \\ndecision, the means, the information, the beliefs \\nand personal analyzes, are optimal; the estimates \\nof probabilities are easily realizable; the \\nindividual has at  his disposal information about \\nall possible alternatives and has a complete and \\nconsistent system of preferences that allows him \\nto make a perfect analysis of all of them. It does \\nnot present difficulties or limits in the \\nmathematical calculations that it  must carry out \\nto determine which the best is , therefore, it \\nguarantees that the chosen alternative is a global \\noptimum (Aumann, 1997).  \\nThe theory of bounded rationality, sees the', metadata={'page': 3, 'source': 'pdfs/5.pdf'}), Document(page_content='Bounded Rationality In Decision -Making  \\nInternational Journal of Research in Business Studies and Management V5 ● I10 ● 2018                          50 from her a complex system cognitive called \\nbounded rationality, of which the behavioral \\ntheory of the  firm centers its study (Simon H., \\n1955).  \\nAfter Barnard, one of the authors of the \\nBehavioral theory of the firm , Herbert Simon, \\ndescribes the importance of organizations in the \\ndecision -making of its members, considering \\nthese organizations remove such individuals as \\npart of their autonomy and replace it with an \\norganizational process of decision making \\n(Vargas -Hernández et al., 2014). In this theory \\nis provided a self -conscious attempt to develop \\nlinguistic and conceptual tools appropriate to \\nreality, a nd meaningfully applied to \\norganizations. The main thesis of Simon (1947) \\nis that decision making forms the heart of the \\norganization, and that the vocabulary of \\norganizational theory must be derived from the', metadata={'page': 2, 'source': 'pdfs/5.pdf'}), Document(page_content='requires that all costs be covered.  \\nBACKGROUND OF THE STUDY OF BOUNDED \\nRATIONALITY IN DECISION MAKING  \\nIn recent years there has been growing interest \\nin the description of decision making that refers \\nand analyzes the way p eople perform these \\nactions in real contexts, which mostly prevents \\nthem from taking them rationally and in what \\nconditions they will actually be relatively \\nrational. This problem was analyzed by Barnard \\n(1938), in which he defined formal organization \\nas a consciously coordinated system of activities \\nor forces of two or more people; He also \\nemphasized the role of the informal \\norganization, in which the individual personality \\nis maintained against certain effects of the \\nformal organization that tends to disi ntegrate the \\npersonality. In fact, Barnard (1938) concludes \\nthat: \"the expansion of cooperation and \\ndevelopment of the individual are mutually \\ndependent realities, and that due to a proportion \\nor balance between them is a necessary', metadata={'page': 1, 'source': 'pdfs/5.pdf'}), Document(page_content='What is the impact of bounded rationality in the \\ndecision making of organizations?  \\nIn the study, only the relationship between the \\ndecision factor is analyzed, which in this case \\nwill depend on the bounded rationality of the \\nperson who performs the decision actions and \\nwhat to do with the behavioral theory of the firm  \\nCONCEPTUAL THEORETICAL REVIEW  \\nBounded Rationality  \\nIt is known that behavior can be rational or \\nirrational, then, it could be inferred that \\npreferences, beliefs, expectations and the \\ndecision -making process are also. Cyert and \\nMarch (1963) mention that the company is an \\ninstitutional, functionally rational response to \\nuncertainty and bounded rationality. How much \\nof this can be observed in reality is to be \\ndoubted. Rationality in the real world is a \\ncomplex concept, due to which there  are \\nnumerous research works that argue that \\nrationality is bounded by the lack of knowledge.  \\nHuman beings struggle for rationality, but it is', metadata={'page': 3, 'source': 'pdfs/5.pdf'}), Document(page_content='Bounded Rationality In Decision -Making  \\n51                         International Journal of Research in Business Studies and Management V5 ● I10 ● 2018  information transmission upwards, simply \\nbecause subordinates cannot visualize the \\ninformation with precision that their superiors \\nneed. These authors suggest that the problem  \\nalso exists in an inverse situation, since the \\nsuperior can retain information from \\nsubordinates; It can be accidental or fraudulent. \\nThis is a weight variable that affects rationality, \\nagain limiting the feasibility with which \\ndecisions are made.  \\nThis cu rrent work focus on investigating the \\nclose relationship of the decision -making \\nprocess and the rationality in them. Then the \\nfollowing research question will be pursued: \\nWhat is the impact of bounded rationality in the \\ndecision making of organizations?  \\nIn the study, only the relationship between the \\ndecision factor is analyzed, which in this case', metadata={'page': 3, 'source': 'pdfs/5.pdf'}), Document(page_content='(2014), about bounded rationality,  referring to the fact that human behavior is rational first \\nintention, but bounded by information \\nasymmetry. And as mentioned earlier, the \\nability of the human mind to formulate and \\nsolve problems is small and is bounded by \\nneuropsychological issues on th e one hand and \\nlanguage limits on the other. Physical limits are \\nthe individual abilities to receive, retrieve and \\nprocess information; those of language refer to \\nthe inability of individuals to articulate their \\nknowledge or feeling by the use of a word, s o \\nthat they can be understood by others \\n(Williamson, 1979).  \\nTable 1. Comparative Rational Choice and Bounded Rationality  \\nBounded rationality  Rational choice  \\nNecessity of assistance of the bounded mental \\ncapacity of the subject that decides.  Unbounded cognitive ability of the subject who \\ndecides.  \\nKnowledge of an acceptable set of actions  Knowledge of all available actions.  \\nApproximate and heterogeneous knowledge of the', metadata={'page': 4, 'source': 'pdfs/5.pdf'}), Document(page_content='initial hypothesis is that the organization, as a social system, seeks to maintain the balance between the \\nbehavior that determines the positions of people and the structure of values and beliefs shared among them, \\nbut that is bounded to the rationality of the decision maker. The research method used is descriptive , being a \\nqualitative analysis, that follows fr om the understanding of the behavioral theory of the firm also the \\nbehavioral decision theory, in terms of behavioral decision -making processes and the analysis through \\nlearning. The main conclusion is that bounded rationality occurs when companies lack co ntext information \\nof the results of their actions, being forced to make less than optimal decisions because they have to adjust \\nto the conditions in which they operate. Decisions involve a commitment of large amounts of resources of \\nthe organization for th e fulfillment of the objectives and purposes of the organization through the', metadata={'page': 0, 'source': 'pdfs/5.pdf'}), Document(page_content='Bounded Rationality In Decision -Making  \\n49                         International Journal of Research in Business Studies and Management V5 ● I10 ● 2018  organizational communication and problem \\nsolving capacities (March and Simon 1958), \\ncited in (Vargas -Hernández, Guerra -García, \\nBojórquez -Gutiérrez, & Bojórquez -Gutiérrez, \\n2014).  \\nIn this regard, Cyert & March (1963) in their \\nbook \" A Behavioral Theory of the Firm \" offered \\nfour main research topics; a) A small number of \\nkey economic decisions, b) Development of a \\ngeneral theor y, generalizing the results of \\nstudies of specific companies, c) Linking \\nempirical data to models, d) Orientation towards \\nthe process instead of the results. They argue \\nthat, the behavior approach takes the company \\nas the basic unit of analysis, trying to predict the \\nbehavior with respect to the decisions of price \\nallocation, production and resources; the \\ndecision -making process is emphasized.  On the', metadata={'page': 1, 'source': 'pdfs/5.pdf'}), Document(page_content='those alternatives come to mind. Complete \\nrationality is \"bounded\" by the lack of \\nknowledge. At the simplest level, performance \\nmay be bounded by manual dexterity or reaction \\ntime, and decision -making processes may be \\nbounded by the speed of mental processes \\n(Simon., 1979). Individuals are also bounded by \\ntheir values and the conceptions of purpose that \\ninfluence them in making their decisions, and \\nthese tend to be shaped by their organizational \\nexperience.  \\nFor example, if the loyalty of the executives of \\nthe organization is high, their decisions can \\nshow sincere acceptance of the set of objectives \\ngiven within the firm. As mentioned above, \\npeople are bounded by their knowledge of the \\nrelevant factors for their work. This limitation \\napplies both to the basic knowledge required in \\ndecision -making (bridge designers must know \\nthe fundamentals of mechanics) and to the \\ninformation required to make appropriate \\ndecisions in a given situation.', metadata={'page': 2, 'source': 'pdfs/5.pdf'}), Document(page_content='way.  \\nOrganizational behavior is the theory of \\nintentional and bounded rationality: it is about \\nthe behavior of humans that satisfy because they \\ndo not have the capacity to maximize (Simon, \\n1947). While the \"economic man\" maxi mizes and selects the best alternative among all \\navailable, the \"man of the organization\" \\nsatisfies, seeks a course of action that is \\nsatisfactory or \"good enough.\" The economic \\nman deals with the real world  \"in all its \\ncomplexity. The world organization t hat man \\nperceives is a drastically simplified model of the \\nreal world (Eduards, The theory of decision \\nmaking , 1954).  \\nThe limits of rationality are the central theme \\nthat is addressed in this document. Rationality \\nrequires a choice between all possible \\nalternative behaviors, in reality only a few of \\nthose alternatives come to mind. Complete \\nrationality is \"bounded\" by the lack of \\nknowledge. At the simplest level, performance \\nmay be bounded by manual dexterity or reaction', metadata={'page': 2, 'source': 'pdfs/5.pdf'}), Document(page_content='Zapopan, Jalisco, 45100, México  \\n*Corresponding Author: José G. Vargas -Hernández, M.B.A.; Ph.D , 1University Center forEconomic \\nand ManagerialSciences.University of Guadalajara Periférico Norte 799, Edif G201 -7, N úcleo \\nUniversitario Los BelenesZapopan, Jalisco, 45100, México  \\n \\nINTRODUCTION  \\nThis document is a reflection of the decision -\\nmaking process in organizations, and the growth \\nof companies through the behavioral theory of \\nthe firm. Decision making is analyzed from the \\npoint of view of bounded rationality, this with \\nthe aim of clarifying  how decisions are made \\nconsidering the human aspect of who decides. \\nFrom a general point of view, the decision is an \\nact that leads to the action of choosing between \\ndifferent alternatives. The adequate selection of \\nthese depends, to a large extent, on th eir success \\nor failure, since they must cover the risk, \\ncertainty and uncertainty inherent in the \\ndecision and the action (Egan, 2007).In', metadata={'page': 0, 'source': 'pdfs/5.pdf'}), Document(page_content='Rational Choice. Quarterly Journal Of \\nEconomics, 189 -210. \\n[24] Simon, H. A. (1957). Models of Man; Social and \\nRational. Ney York.: Wiley.  \\n[25] Simon, H. A. (1978). Rationality as Process and \\nas an a Product of Thought. The American \\nEconomic Review, 1 -16. \\n[26] Simon, H. A. (1982). Models Of Bounded \\nRationality. Economic Analysis and Public \\nPolicy. Volume 2: Behavioural E conomics and \\nBusiness Organization, 478 -505. \\n[27] Simon, H. A. (1997). Models of Bounded \\nRationality. Cambridge, Massachusetts. England.: \\nThe MIT press.  \\n[28] Simon, H. A. (2000). Bounded rationality in \\nsocial science: Today and tomorrow. Mind & \\nSociety, Vol. 1, Issue 1., 25 -39. \\n[29] Simon. (1979). Rational Decision Making in \\nBusiness Organizations. American economic \\nreview, 498 -513. \\n[30] Vargas -Hernández, J. G., Guerra -García, E., \\nBojórquez -Gutiérrez, A., & Bojórquez -Gutiérrez, \\nF. (2014). Gestión Estratégica de Organizacio nes. \\nAutónoma de Buenos Aires: Elaleph.', metadata={'page': 9, 'source': 'pdfs/5.pdf'})]\n"
     ]
    }
   ],
   "source": [
    "## Now we are sure that memory works and this Chatbot has context, lets get creative\n",
    "\n",
    "# Making a retriever\n",
    "query2 = \"in 6-7 major paragraphs  tell me about Bounded Rationality In Decision-Making\"\n",
    "def retriever():\n",
    "    retriever = vectordb.as_retriever(search_kwargs={\"k\": 20})\n",
    "    docs = retriever.get_relevant_documents(query2) # Here we are filtering documents with similar meaning to the query\n",
    "    return docs\n",
    "docs = retriever()\n",
    "print(docs)\n",
    "\n",
    "# So here we get relevant text chunks"
   ]
  },
  {
   "cell_type": "code",
   "execution_count": 29,
   "metadata": {},
   "outputs": [],
   "source": [
    "# Use info from retriver alongside context provision via openAI API\n",
    "\n",
    "import requests\n",
    "import socket\n",
    "import os\n",
    "import openai\n",
    "\n",
    "# Load environment variables\n",
    "AZURE_OPENAI_API_KEY = os.getenv('CHAT_4_API_KEY')\n",
    "AZURE_OPENAI_ENDPOINT = os.getenv(\"CHAT_4_API_BASE\")\n",
    "AZURE_OPENAI_VERSION = os.getenv(\"CHAT_4_API_VERSION\")\n",
    "DEPLOYMENT = os.getenv(\"CHAT_4_DEPLOPMENT_NAME\")\n",
    "MODEL = os.getenv(\"embed_model\")\n",
    "\n",
    "if not all([AZURE_OPENAI_ENDPOINT, AZURE_OPENAI_API_KEY, DEPLOYMENT]):\n",
    "    print(\"One or more environment variables are not set.\")\n",
    "    exit(1)\n",
    "\n",
    "# Initialize the OpenAI client\n",
    "client = openai.AzureOpenAI(\n",
    "    azure_endpoint=AZURE_OPENAI_ENDPOINT,\n",
    "    api_key=AZURE_OPENAI_API_KEY,\n",
    "    api_version=\"2023-09-01-preview\"\n",
    ")\n",
    "\n",
    "def chat_bot(docs,query2):\n",
    "    # Initial messages and parameters\n",
    "    messages = [\n",
    "        {\"role\": \"system\", \"content\": \"\"\"You are a helpful research assistant. Summarize ONLY from the documents given to answer the question. \n",
    "        Don't generate or add your own content. If there is no answer in the documents, just say there is no answer in the available documents. I insist don't generate your own content.\"\"\"},\n",
    "        \n",
    "    ]\n",
    "\n",
    "    # Append the documents to the messages\n",
    "    for doc in docs:\n",
    "        content = doc.page_content if hasattr(doc, 'page_content') else ''\n",
    "        messages.append({\"role\": \"user\", \"content\": content})\n",
    "    messages.append({\"role\": \"user\", \"content\": query2})\n",
    "\n",
    "    try:\n",
    "        # Make the API call\n",
    "        response = client.chat.completions.create(\n",
    "            model=DEPLOYMENT,\n",
    "            messages=messages,\n",
    "            temperature=0.7,\n",
    "            max_tokens=4096\n",
    "        )\n",
    "\n",
    "        # Print the response\n",
    "        #print(f\"{response.choices[0].message.role}: {response.choices[0].message.content}\")\n",
    "        return response.choices[0].message.content\n",
    "\n",
    "    except openai.error.OpenAIError as e:\n",
    "        print(f\"OpenAI error occurred: {e}\")\n",
    "    except Exception as e:\n",
    "        print(f\"An error occurred: {e}\")\n"
   ]
  },
  {
   "cell_type": "code",
   "execution_count": 30,
   "metadata": {},
   "outputs": [
    {
     "name": "stdout",
     "output_type": "stream",
     "text": [
      "page_content='Richard Karanu\\nFull Stack Engineer with 4+ years of experience. Strong ownership mindset,  \\nproficient  in  full  stack  technologies,  excellent  communication  and  \\ncollaboration  skills,  and  a  passion  for  learning  and  adapting  to  new  \\ntechnologies.  I  am  enthusiastic  about  software  architecture,  machine  \\nlearning, artificial intelligence, and quantum computing. In my free time, I  \\nenjoy soccer, cycling, and swimming.CONTACT ME\\nofficialforrichardk@gmail.com\\n+254701291911\\nhttps://www.linkedin.com/in/\\nrichard-karanu-94b572241/\\n \\nhttps://github.com/RichardKara\\nnuMbuti\\nWORK EXPERIENCE\\nMiksi                                            Full Stack Engineer\\nCroatia, Zagreb  (Remote )                                      June 2023 -  PRESENT\\n\\uf06cSpearheaded the design of scalable and robust system architectures \\nfor enterprise-level AI agents , by analyzing performance bottlenecks  \\nand reengineering core components, improving system performance by \\n40%.' metadata={'page': 0, 'source': 'pdfs/Richard_ Full Stack - June 2024.pdf'}\n",
      "There is no answer in the available documents.\n"
     ]
    }
   ],
   "source": [
    "# Making a retriever\n",
    "query2 = \"in 6-7 major paragraphs  tell me about Bounded Rationality In Decision-Making\"\n",
    "def retriever():\n",
    "    retriever = vectordb.as_retriever(search_kwargs={\"k\": 20})\n",
    "    docs = retriever.get_relevant_documents(query) # Here we are filtering documents with similar meaning to the query\n",
    "    return docs\n",
    "docs = retriever()\n",
    "print(docs[0])\n",
    "answer = chat_bot(docs,query2)\n",
    "print(answer)"
   ]
  }
 ],
 "metadata": {
  "kernelspec": {
   "display_name": "Python 3 (ipykernel)",
   "language": "python",
   "name": "python3"
  },
  "language_info": {
   "codemirror_mode": {
    "name": "ipython",
    "version": 3
   },
   "file_extension": ".py",
   "mimetype": "text/x-python",
   "name": "python",
   "nbconvert_exporter": "python",
   "pygments_lexer": "ipython3",
   "version": "3.11.4"
  }
 },
 "nbformat": 4,
 "nbformat_minor": 2
}
