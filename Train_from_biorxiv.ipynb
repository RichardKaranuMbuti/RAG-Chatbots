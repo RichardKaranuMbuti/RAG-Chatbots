{
 "cells": [
  {
   "cell_type": "code",
   "execution_count": 1,
   "metadata": {
    "executionInfo": {
     "elapsed": 163,
     "status": "ok",
     "timestamp": 1704848233823,
     "user": {
      "displayName": "Ahmad Borzou",
      "userId": "12597026365140090461"
     },
     "user_tz": 360
    },
    "id": "r-H68C-R2sBn"
   },
   "outputs": [],
   "source": [
    "import requests\n",
    "import json\n",
    "from bs4 import BeautifulSoup\n",
    "import os"
   ]
  },
  {
   "cell_type": "code",
   "execution_count": 2,
   "metadata": {
    "colab": {
     "base_uri": "https://localhost:8080/"
    },
    "executionInfo": {
     "elapsed": 8617,
     "status": "ok",
     "timestamp": 1704853057961,
     "user": {
      "displayName": "Ahmad Borzou",
      "userId": "12597026365140090461"
     },
     "user_tz": 360
    },
    "id": "6n9sDGHP8xrR",
    "outputId": "c4f6c093-edb5-4c50-fc7c-9648fea7fbfd"
   },
   "outputs": [
    {
     "name": "stdout",
     "output_type": "stream",
     "text": [
      "<class 'str'>\n"
     ]
    }
   ],
   "source": [
    "## change the\n",
    "query    = \" how to find marker genes for single cell RNA seq study \"\n",
    "question = \" how to find marker genes for single cell RNA seq study \"\n",
    "print(type(query))\n",
    "\n",
    "start_date = \"2010-01-01\" ## \"YYYY-MM-DD\"\n",
    "end_date   = \"2023-12-30\"\n",
    "\n",
    "# Replace with the actual bioRxiv API endpoint for searching articles\n",
    "url = f\"https://api.biorxiv.org/details/biorxiv/{start_date}/{end_date}\"\n",
    "\n",
    "# Parameters for the API request\n",
    "params = {\n",
    "    'q': query,  # your search query\n",
    "    'num_results': 10  # number of results to return\n",
    "}\n",
    "\n",
    "# Send a request to the bioRxiv API\n",
    "response = requests.get(url, params=params)\n",
    "\n",
    "\n"
   ]
  },
  {
   "cell_type": "code",
   "execution_count": 3,
   "metadata": {},
   "outputs": [
    {
     "data": {
      "text/plain": [
       "'\\nstart_date = \"2010-01-01\"  # \"YYYY-MM-DD\"\\nend_date = \"2023-12-30\"\\ndesired_num_results = 10  # number of results you want to return\\narticles = []\\n\\ncursor = 0\\nwhile len(articles) < desired_num_results:\\n    url = f\"https://api.biorxiv.org/details/biorxiv/{start_date}/{end_date}/{cursor}\"\\n    response = requests.get(url)\\n    if response.status_code != 200:\\n        print(f\"Failed to retrieve data: {response.status_code}\")\\n        break\\n\\n    data = response.json()\\n    articles.extend(data[\\'collection\\'])  # Assuming \\'collection\\' contains the articles\\n    cursor += 100  # Increment the cursor to get the next page of results\\n\\n    # Check if there are no more articles\\n    if len(data[\\'collection\\']) < 100:\\n        break\\n\\n# Slice the list to contain only the desired number of articles\\narticles = articles[:desired_num_results]\\n'"
      ]
     },
     "execution_count": 3,
     "metadata": {},
     "output_type": "execute_result"
    }
   ],
   "source": [
    "#  Use this if you want to return exacly 10 results from the api and not 100 and then filter the first 10 like in we \n",
    "#did above\n",
    "'''\n",
    "start_date = \"2010-01-01\"  # \"YYYY-MM-DD\"\n",
    "end_date = \"2023-12-30\"\n",
    "desired_num_results = 10  # number of results you want to return\n",
    "articles = []\n",
    "\n",
    "cursor = 0\n",
    "while len(articles) < desired_num_results:\n",
    "    url = f\"https://api.biorxiv.org/details/biorxiv/{start_date}/{end_date}/{cursor}\"\n",
    "    response = requests.get(url)\n",
    "    if response.status_code != 200:\n",
    "        print(f\"Failed to retrieve data: {response.status_code}\")\n",
    "        break\n",
    "\n",
    "    data = response.json()\n",
    "    articles.extend(data['collection'])  # Assuming 'collection' contains the articles\n",
    "    cursor += 100  # Increment the cursor to get the next page of results\n",
    "\n",
    "    # Check if there are no more articles\n",
    "    if len(data['collection']) < 100:\n",
    "        break\n",
    "\n",
    "# Slice the list to contain only the desired number of articles\n",
    "articles = articles[:desired_num_results]\n",
    "'''"
   ]
  },
  {
   "cell_type": "code",
   "execution_count": 4,
   "metadata": {
    "scrolled": true
   },
   "outputs": [
    {
     "name": "stdout",
     "output_type": "stream",
     "text": [
      "Title: Population genomics of Saccharomyces cerevisiae human isolates: passengers, colonizers, invaders.\n",
      "Text written to articles/10.1101_001891.txt\n",
      "Title: Estimating seed bank accumulation and dynamics in three obligate-seeder Proteaceae species\n",
      "Text written to articles/10.1101_001867.txt\n",
      "Title: How and where to look for tRNAs in Metazoan mitochondrial genomes, and what you might find when you get there\n",
      "Text written to articles/10.1101_001875.txt\n",
      "Title: How and where to look for tRNAs in Metazoan mitochondrial genomes, and what you might find when you get there\n",
      "Text written to articles/10.1101_001875.txt\n",
      "Title: Emergence of structural and dynamical properties of ecological mutualistic networks\n",
      "Text written to articles/10.1101_001818.txt\n"
     ]
    }
   ],
   "source": [
    "# Check if the request was successful\n",
    "if response.status_code == 200:\n",
    "    # Parse the response JSON\n",
    "    number_of_articles = 10  # Filter the first 10 articles\n",
    "    data = response.json()\n",
    "\n",
    "    # Extract article information\n",
    "    articles = data['collection']  # Adjust this based on actual response structure\n",
    "    articles = articles[:number_of_articles]\n",
    "\n",
    "    # Create a directory for articles if it doesn't exist\n",
    "    if not os.path.exists('articles'):\n",
    "        os.makedirs('articles')\n",
    "\n",
    "    for article in articles:\n",
    "        #print(f\"Title: {article['title']}\")\n",
    "\n",
    "        if article['published'] == \"NA\":\n",
    "            print(f\"Title: {article['title']}\")\n",
    "\n",
    "            doi = article['doi']\n",
    "            # Replace / with _ in DOI to make it a valid filename\n",
    "            filename = doi.replace('/', '_') + '.txt'\n",
    "            # Include the folder name in the path\n",
    "            filepath = os.path.join('articles', filename)\n",
    "    \n",
    "            # bioRxiv metadata\n",
    "            full_text_url = f\"https://www.biorxiv.org/content/{doi}.full\"\n",
    "    \n",
    "            try:\n",
    "                response = requests.get(full_text_url)\n",
    "                if response.status_code == 200:\n",
    "                    soup = BeautifulSoup(response.content, 'html.parser')\n",
    "                    texts = soup.get_text(separator=' ', strip=True)\n",
    "    \n",
    "                    # Writing the texts to a file inside the articles folder\n",
    "                    with open(filepath, 'w', encoding='utf-8') as file:\n",
    "                        file.write(texts)\n",
    "                    print(f\"Text written to {filepath}\")\n",
    "    \n",
    "            except Exception as e:\n",
    "                print(f\"Problem reading the article: {e}\")"
   ]
  },
  {
   "cell_type": "markdown",
   "metadata": {},
   "source": [
    "In the above the implemtation is to write them to text files, whether keeping the first article or many, for easier loading when saving to vectorstore"
   ]
  },
  {
   "cell_type": "code",
   "execution_count": 5,
   "metadata": {},
   "outputs": [],
   "source": [
    "from langchain.vectorstores import Chroma\n",
    "from langchain.embeddings import OpenAIEmbeddings\n",
    "from langchain.text_splitter import RecursiveCharacterTextSplitter\n",
    "from langchain.llms import OpenAI\n",
    "from langchain.chains import RetrievalQA\n",
    "from langchain.document_loaders import TextLoader\n",
    "from langchain.document_loaders import DirectoryLoader\n",
    "\n"
   ]
  },
  {
   "cell_type": "code",
   "execution_count": 6,
   "metadata": {},
   "outputs": [],
   "source": [
    "# Load and process the text files\n",
    "#loader = TextLoader('article.txt')\n",
    "\n",
    "#Load from a directory\n",
    "loader = DirectoryLoader('./articles/', glob=\"./*.txt\", loader_cls=TextLoader) #- We will use this in case of many articles saved in a directory\n",
    "\n",
    "documents = loader.load()"
   ]
  },
  {
   "cell_type": "code",
   "execution_count": 7,
   "metadata": {},
   "outputs": [],
   "source": [
    "#splitting the text into smaller documents \n",
    "text_splitter = RecursiveCharacterTextSplitter(chunk_size=1000, chunk_overlap=200)\n",
    "texts = text_splitter.split_documents(documents)"
   ]
  },
  {
   "cell_type": "code",
   "execution_count": 8,
   "metadata": {},
   "outputs": [
    {
     "data": {
      "text/plain": [
       "278"
      ]
     },
     "execution_count": 8,
     "metadata": {},
     "output_type": "execute_result"
    }
   ],
   "source": [
    "# Lets see how many smaller documents we have created from the large document\n",
    "len(texts)"
   ]
  },
  {
   "cell_type": "code",
   "execution_count": 9,
   "metadata": {},
   "outputs": [
    {
     "data": {
      "text/plain": [
       "Document(page_content='would be only 6 nt (out of 61 nt) of overlap with the tRNA-ser(UCN) gene. Alternatively, the l-rRNA gene could be re-annotated to match more closely the CRW H4 stem structures, in which case there would be 19 nt of overlap (plus another ∼2 nt if the gene extends beyond the end of the stem). The latter seems to be the most likely option. Download figure Open in new tab Fig. 4 (a) Size of the gaps (number of nucleotides) between adjacent genes, and (b) amount of overlap of each tRNA (%) with another gene, in the Epiperipatus biolleyi (Onychophora) mitochondrial genome, based on the new annotations. Each dot represents (a) one boundary between genes and (b) one tRNA. Negative numbers indicate overlap between gene sequences. Not shown is the largest gap between genes (449 nucleotides), which is assumed to be the AT-rich or control region. The two databased Varroa destructor (Arthropoda; Chelicerata) mitogenomes were annotated to have different tRNAs completely overlap with the l-rRNA: in', metadata={'source': 'articles/10.1101_001875.txt'})"
      ]
     },
     "execution_count": 9,
     "metadata": {},
     "output_type": "execute_result"
    }
   ],
   "source": [
    "# Lets select the 4th document to see how it looks as a small chunk\n",
    "texts[50]"
   ]
  },
  {
   "cell_type": "code",
   "execution_count": 10,
   "metadata": {},
   "outputs": [
    {
     "name": "stderr",
     "output_type": "stream",
     "text": [
      "/home/acelogic/Jupyter Environs/langchain/venv/lib/python3.11/site-packages/langchain_core/_api/deprecation.py:117: LangChainDeprecationWarning: The class `langchain_community.embeddings.openai.OpenAIEmbeddings` was deprecated in langchain-community 0.1.0 and will be removed in 0.2.0. Use langchain_openai.OpenAIEmbeddings instead.\n",
      "  warn_deprecated(\n"
     ]
    }
   ],
   "source": [
    "import os\n",
    "from dotenv import load_dotenv\n",
    "import chromadb\n",
    "#from langchain_community.embeddings.sentence_transformer import SentenceTransformerEmbeddings # use openai embeddings instead\n",
    "\n",
    "#from langchain_community.vectorstores import Chroma  # We will use this as our local vectorstore\n",
    "\n",
    "\n",
    "# Load environment variables from a .env file\n",
    "load_dotenv()\n",
    "\n",
    "OPENAI_API_KEY = os.getenv('openai_api_key')\n",
    "\n",
    "\n",
    "# Embed and store the texts\n",
    "\n",
    "\n",
    "## here we are using OpenAI embeddings but we could also use the sentensetransformer embeddings\n",
    "embedding_function = OpenAIEmbeddings(model = 'text-embedding-ada-002',openai_api_key=OPENAI_API_KEY)\n",
    "\n",
    "# create the open-source embedding function \n",
    "#embedding_function = SentenceTransformerEmbeddings(model_name=\"all-MiniLM-L6-v2\")\n",
    "\n",
    "# load it into Chroma\n",
    "db = Chroma.from_documents(texts, embedding_function)\n"
   ]
  },
  {
   "cell_type": "code",
   "execution_count": 38,
   "metadata": {
    "scrolled": true
   },
   "outputs": [
    {
     "name": "stdout",
     "output_type": "stream",
     "text": [
      "[Document(page_content='Department of Biomedical Sciences and Veterinary Public Health, Swedish University of Agricultural Sciences , Uppsala 751 89, Sweden ; Find this author on Google Scholar Find this author on PubMed Search for this author on this site For correspondence: David.Morrison@bvf.slu.se Tony D. Auld 3 Plant Ecology Unit, Climate Change Science Section, Department of Environment & Climate Change (NSW) , PO Box 1967, Hurstville NSW 2220, Australia ; Find this author on Google Scholar Find this author on PubMed Search for this author on this site For correspondence: Tony.Auld@environment.nsw.gov.au Abstract Full Text Info/History Metrics Preview PDF Abstract The seed bank dynamics of the three co-occurring obligate-seeder (i.e. fire-sensitive) Proteaceae species, Banksia ericifolia , Banksia marginata and Petrophile pulchella , were examined at sites of varying time since the most recent fire (i.e. plant age) in the Sydney region. Significant variation among species was found in the number of', metadata={'source': 'articles/10.1101_001867.txt'}), Document(page_content='were produced in the 3-year-old populations for either Banksia species, and very few for P. pulchella . The fitted regression equations predict that the average time for production of the second cone on a plant would be 8.3 years TSLF for B. ericifolia , 4.5 years for B. marginata and 4.3 years for P. pulchella . These can be considered as minimum estimates of the earliest useful contributions to an accumulating seedbank. However, it is likely to be an under-estimate for B. marginata because no 5-year-old site was sampled, and this affects the shape of the relevant part of the fitted regression. Indeed, a linear regression fits the B. marginata data just as well as does the non-linear one (this is not true for either the B. ericifolia or P. pulchella data), and this predicts that second cone production on a plant would occur at an average of 6.7 years TSLF, which we consider to be a more realistic estimate for this species. Download figure Open in new tab Figure 1. Relationship', metadata={'source': 'articles/10.1101_001867.txt'}), Document(page_content='especially evident in the older populations. The relatively consistent position where the new cones occurred implies that each branch must reach a certain maturity before it can produce flowers. Here, P. pulchella primarily produced cones on whorls 2 years in age, whilst the two Banksia species showed production of new cones over a small range of growth whorls, with B. marginata producing new cones primarily on 3–4-year-old growth whorls and B. ericifolia producing most new cones on growth whorls 5 years in age. The positioning of cones with respect to growth whorls seemed to display a similar trend across all TSLF ages and geographical locations. However, our quantitative observations contrast with results that reported new cones on 1–3-year-old whorls in B. ericifolia ( George 1981 ; Zammit & Westoby 1988 ). These position preferences may be related to the age required for first flowering in this species — for example, if whorls need to be >5 years old before they can bear a cone,', metadata={'source': 'articles/10.1101_001867.txt'}), Document(page_content='shoots, but with considerable latitude in the position, and B. marginata preferred 3–4-year-old shoots. These position preferences may be related to the age required for first flowering in the species, and this position can also be used to determine a minimum age for the older cones. Download figure Open in new tab Figure 2. Frequency histograms of the growth-whorl position (≈ shoot age) of the current season’s cones (dashed lines) and the older cones (solid lines) for (a) B. ericifolia , (b) B. marginata and (c) P. pulchella . Both Banksia species produced substantial numbers (from 10–50%) of cones with no apparent reproductive value ( Fig. 3 ). For the accumulated cones (i.e. those produced in previous years), neither species showed any significant trend with plant age in the proportion of fertile/barren cones ( B. ericifolia , χ 2 = 8.91, P = 0.113; B. marginata , χ 2 = 6.08, P = 0.299). However, the current (i.e. 2001) season’s crop for B. ericifolia had fewer fertile cones than', metadata={'source': 'articles/10.1101_001867.txt'}), Document(page_content='and 5–9 years for B. ericifolia and P. pulchella respectively ( Myerscough et al. 2000 ), which is consistent with our estimates. When estimating the juvenile periods of obligate-seeder species, we suggest that it is advantageous to slightly over-estimate than to under-estimate, because regeneration may not occur if erratic production of cones occurs or low fruit numbers are set in the first few years of reproduction. Certain fire regimes are known to cause local extinction of species, as in the case when multiple fires occur during the juvenile period ( Hammill et al. 1998 ). Bradstock & O’Connell (1988) found that seeds could be available at 6 years TSLF in B. ericifolia and 5 years in P. pulchella , and replacement would then be possible if seedling establishment after fire was very high. They suggested that fire-free intervals of 8–10 years would be tolerated without any population decline, but a 13-year inter-fire period would be needed for persistence if establishment of', metadata={'source': 'articles/10.1101_001867.txt'}), Document(page_content='was observed to start cone production in 7-year-old populations, whilst B. ericifolia and P. pulchella began flowering at 5 years TSLF (no 5-year-old site was sampled for B. marginata ). However, follicle production was not observed to begin until 8 years in B. marginata and B. ericifolia , and even then extreme fluctuations in follicle production occurred. From our results, a minimum fire-free period of greater than 10 years may be necessary for worthwhile fruit initiation in all three study species, as our estimated average time for production of a second cone on a plant, which seems to coincide with initial production of follicles/bracts, was 8.3 years for B. ericifolia , 6.7 years for B. marginata and 4.3 years for P. pulchella . The primary juvenile periods have been reported to be 6–8 and 5–9 years for B. ericifolia and P. pulchella respectively ( Myerscough et al. 2000 ), which is consistent with our estimates. When estimating the juvenile periods of obligate-seeder species, we', metadata={'source': 'articles/10.1101_001867.txt'}), Document(page_content='Search for this author on this site Luisa Berná 2 Department of Neuroscience, Psychology, Drug Research and Child Health, Meyer Children Hospital, University of Florence , Viale G. Pieraccini 6, 50139 Florence, Italy . Find this author on Google Scholar Find this author on PubMed Search for this author on this site Matteo Ramazzotti 3 Department of Experimental and Clinical Biomedical Sciences, University of Florence , viale Morgagni 50, 50134 Florence, Italy . Find this author on Google Scholar Find this author on PubMed Search for this author on this site Leonardo Dapporto 4 Department of Biological and Medical Sciences, Oxford Brookes University , Headington, Oxford, OX30BP, UK . Find this author on Google Scholar Find this author on PubMed Search for this author on this site Damariz Rivero 2 Department of Neuroscience, Psychology, Drug Research and Child Health, Meyer Children Hospital, University of Florence , Viale G. Pieraccini 6, 50139 Florence, Italy . Find this author on', metadata={'source': 'articles/10.1101_001891.txt'}), Document(page_content='regression, this was set to x = 3 for both Banksia species but left at x = 0 for P. pulchella . For the relationship between the number of new (i.e. 2001) cones produced per plant and plant canopy volume, mean values per population were calculated and least-squares correlations were then performed ( Minitab 2000 ). For the relationship between TSLF age (as the independent variable) and the total accumulated seed bank (as the dependent variable), the single estimates for each population were analysed by least-squares non-linear curve-fitting of a sigmoid function ( Raner 2001 ). This function was chosen as a simple heuristic tool, rather than with any specific biological model in mind. The effects of plant age on the counts of the number of fertile/barren cones in the current (i.e. 2001) and older seasons at the different sites were analysed by contingency chi-square analyses ( Minitab 2000 ). The effects of plant age on the number of follicles/bracts per cone in the current and older', metadata={'source': 'articles/10.1101_001867.txt'}), Document(page_content='cone production on a plant would occur at an average of 6.7 years TSLF, which we consider to be a more realistic estimate for this species. Download figure Open in new tab Figure 1. Relationship between the average number of cones per plant and time since the last fire (TSLF) for (a) B. ericifolia , (b) B. marginata and (c) P. pulchella . Each symbol represents a population average with standard errors, showing the southern (filled symbols) and northern (open symbols) sites, along with the predicted values (solid line) of the best-fit regression. For both B. ericifolia and P. pulchella the older sites had much greater variation in the number of accumulated cones, both within and between populations, than did B. marginata ( Fig. 1 ). Furthermore, the number of new cones produced was positively correlated with the current volume of the plant canopy for all three species: B. ericifolia , r = 0.89, P < 0.001; B. marginata , r = 0.74, P < 0.001; P. pulchella , r = 0.98, P < 0.001. The', metadata={'source': 'articles/10.1101_001867.txt'}), Document(page_content='on Google Scholar Find this author on PubMed Search for this author on this site Paolo Lionetti 2 Department of Neuroscience, Psychology, Drug Research and Child Health, Meyer Children Hospital, University of Florence , Viale G. Pieraccini 6, 50139 Florence, Italy . Find this author on Google Scholar Find this author on PubMed Search for this author on this site Duccio Cavalieri 1 Fondazione E. Mach, Research and Innovation Centre , Via E. Mach 1, 38010 San Michele all’ Adige (Trento), Italy . Find this author on Google Scholar Find this author on PubMed Search for this author on this site For correspondence: duccio.cavalieri@fmach.it Abstract Full Text Info/History Metrics Preview PDF Abstract The quest for the ecological niches of Saccharomyces cerevisiae ranged from wineries to oaks and more recently to the gut of Crabro Wasps. Here we propose the role of the human gut in shaping S. cerevisiae evolution, presenting the genetic structure of a previously unknown population of yeasts,', metadata={'source': 'articles/10.1101_001891.txt'}), Document(page_content='of a population and subsequent seasons. Download figure Open in new tab Figure 3. Relationship between the percentage of fertile cones (i.e. those bearing follicles) and time since the last fire (TSLF) for B. ericifolia (circles) and B. marginata (stars). Each symbol represents a population value with binomial standard errors, and the B. ericifolia data have been separated into the current season’s cones (open symbols) and older cones (filled symbols). The average number of fruits per cone was calculated for the Banksia species using only the cones that produced follicles, due to the high percentages of barren cones, and using all cones for P. pulchella ( Table 2 ). Both Banksia species showed a significant difference in the average number of fruits produced per cone with respect to plant age ( Table 3 ), with a greater number of fruits per cone at 15–20 years TSLF ( Table 2 ). P. pulchella did not show this pattern. On the other hand, P. pulchella generally produced significantly', metadata={'source': 'articles/10.1101_001867.txt'}), Document(page_content='Rivero 2 Department of Neuroscience, Psychology, Drug Research and Child Health, Meyer Children Hospital, University of Florence , Viale G. Pieraccini 6, 50139 Florence, Italy . Find this author on Google Scholar Find this author on PubMed Search for this author on this site Ivo G. Gut 5 Centro Nacional d’Anàlisi Genòmica, CNAG, Parc Cientific de Barcelona 08028 Barcelona, Spain . Find this author on Google Scholar Find this author on PubMed Search for this author on this site Marta Gut 5 Centro Nacional d’Anàlisi Genòmica, CNAG, Parc Cientific de Barcelona 08028 Barcelona, Spain . Find this author on Google Scholar Find this author on PubMed Search for this author on this site Mónica Bayés 5 Centro Nacional d’Anàlisi Genòmica, CNAG, Parc Cientific de Barcelona 08028 Barcelona, Spain . Find this author on Google Scholar Find this author on PubMed Search for this author on this site Jean-Luc Legras 6 Institut National de la Recherche Agronomique, INRA, Unité Mixte de Recherche Sciences', metadata={'source': 'articles/10.1101_001891.txt'}), Document(page_content='View popup Download powerpoint Table 1. Number of plants sampled for each species at each site. An asterisk indicates a site where individual cones were also sampled. Sites were selected to cover a representative range of ages available with the following selection criteria: (1) the time since the last fire was accurately known from fire-history maps obtained from the New South Wales National Parks and Wildlife Service; (2) the site contained at least one of the three study species but preferably more; (3) the population appeared to be even aged (i.e. all individuals had been killed by the most recent fire); (4) sites with more than 50% exposed rock were not used, due to the patchy nature of fires in these habitats; and (5) care was taken to sample a reasonable distance (usually approx. 5–10 m) from roads, walking and maintenance trails, and any other disturbances, to avoid edge effects, i.e. possibly higher growth rates of plants on roadsides and potential fire patchiness in these', metadata={'source': 'articles/10.1101_001867.txt'}), Document(page_content='29 , 521 – 532 . OpenUrl ↵ Bradstock , R.A. & O’Connell , M.A. ( 1988 ) Demography of woody plants in relation to fire: Banksia ericifolia L.f. and Petrophile pulchella (Shrad.) R.Br. Australian Journal of Ecology 13 , 508 – 518 . OpenUrl ↵ I. Lunt , D.G. Green , B. Lord Burrows , N.D. , Ward , B. & Robinson , A.D. ( 1999 ) The role of indicators in developing appropriate fire regimes . In: Bushfire ‘99 Conference Proceedings: Australian bushfire conference , Albury , July 1999 (eds I. Lunt , D.G. Green , B. Lord ) pp. 59 – 68 . ( Charles Sturt University, School of Environmental & Information Sciences , Albury ). ↵ Collins , B.G. & Rubelo , T. ( 1987 ) Pollination biology of the Proteaceae in Australia and southern Africa . Australian Journal of Ecology 12 , 387 – 421 . OpenUrl CrossRef Web of Science ↵ Cowling , R.M. & Lamont , B.B. ( 1985 ) Variation in serotiny of three Banksia species along a climatic gradient . Australian Journal of Ecology 10 , 345 – 350 . OpenUrl CrossRef Web', metadata={'source': 'articles/10.1101_001867.txt'}), Document(page_content='correlated with the current volume of the plant canopy for all three species: B. ericifolia , r = 0.89, P < 0.001; B. marginata , r = 0.74, P < 0.001; P. pulchella , r = 0.98, P < 0.001. The slightly poorer correlation value and the lesser variability for B. marginata are both consistent with the more-linear increase in cone production noted above. There were no detectable differences in fruit production between the northern and southern sites of the same TSLF age for either B. ericifolia or P. pulchella ( Fig. 1 ). The growth-position of the newly produced cones varied between the species ( Fig. 2 ), although all three species preferentially produced the cones on younger whorls. P. pulchella almost always produced cones on 2-year-old shoots, while B. ericifolia generally preferred 6–7-year-old shoots, but with considerable latitude in the position, and B. marginata preferred 3–4-year-old shoots. These position preferences may be related to the age required for first flowering in the', metadata={'source': 'articles/10.1101_001867.txt'}), Document(page_content='Estimating seed bank accumulation and dynamics in three obligate-seeder Proteaceae species | bioRxiv Skip to main content Home About Submit ALERTS / RSS Search for this keyword Advanced Search New Results Estimating seed bank accumulation and dynamics in three obligate-seeder Proteaceae species Meaghan E. Jenkins , David A. Morrison , Tony D. Auld doi: https://doi.org/10.1101/001867 Meaghan E. Jenkins 1 Department of Environmental Sciences, University of Technology Sydney , Westbourne Street, Gore Hill NSW 2065, Australia Find this author on Google Scholar Find this author on PubMed Search for this author on this site David A. Morrison 1 Department of Environmental Sciences, University of Technology Sydney , Westbourne Street, Gore Hill NSW 2065, Australia 2 Section for Parasitology (SWEPAR), Department of Biomedical Sciences and Veterinary Public Health, Swedish University of Agricultural Sciences , Uppsala 751 89, Sweden ; Find this author on Google Scholar Find this author on PubMed', metadata={'source': 'articles/10.1101_001867.txt'}), Document(page_content='and species re-establishment in Proteaceous heath . Australian Journal of Botany 46 , 407 – 419 . OpenUrl CrossRef Web of Science ↵ Jenkins , M. , Morrison , D.A. & Auld , T.D. ( 2005 ) The use of growth characteristics for predicting plant age of three obligate-seeder Proteaceae species . Australian Journal of Botany 53 , 101 – 108 . OpenUrl ↵ C. Brown , L. Tohver Keith DA ( 1994 ) Ecological and environmental impacts of natural fire regimes . In: Bushfire! Looking to the Future (eds C. Brown , L. Tohver ) pp. 33 – 39 . ( Nature Conservation Council of New South Wales , Sydney ). ↵ Keith , D.A. ( 1996 ) Fire-driven extinction of plant populations: a synthesis of theory and review of evidence from Australian vegetation . Proceedings of the Linnean Society of New South Wales 116 , 37 – 78 . OpenUrl ↵ Lamont , B.B. , Le Maitre , D.C. , Cowling , R.M. & Enright , N.J. ( 1991 ). Canopy seed storage in woody plants . The Botanical Review 57 , 277 – 317 . OpenUrl CrossRef Web of Science ↵', metadata={'source': 'articles/10.1101_001867.txt'}), Document(page_content='older seasons at the different sites were analysed by contingency chi-square analyses ( Minitab 2000 ). The effects of plant age on the number of follicles/bracts per cone in the current and older seasons were analysed by 1- or 2-factor analyses of variance using a general linear model ( Minitab 2000 ). The effects of cone age (i.e. whorl position) on the number of open and closed follicles/bracts per cone were analysed by 1-factor analyses of variance ( Minitab 2000 ). 3. Results All three species displayed an increase in the total number of cones with TSLF age ( Fig. 1 ), as would be expected for any serotinous species. B. marginata displayed the highest level of cone accumulation, with B. ericifolia and P. pulchella producing approximately half as many cones as B. marginata . No cones were produced in the 3-year-old populations for either Banksia species, and very few for P. pulchella . The fitted regression equations predict that the average time for production of the second cone', metadata={'source': 'articles/10.1101_001867.txt'}), Document(page_content='you would like to see this page from the bioRxiv website. Your Personal Message CAPTCHA This question is for testing whether or not you are a human visitor and to prevent automated spam submissions. Share Population genomics of Saccharomyces cerevisiae human isolates: passengers, colonizers, invaders Carlotta De Filippo , Monica Di Paola , Irene Stefanini , Lisa Rizzetto , Luisa Berná , Matteo Ramazzotti , Leonardo Dapporto , Damariz Rivero , Ivo G. Gut , Marta Gut , Mónica Bayés , Jean-Luc Legras , Roberto Viola , Cristina Massi-Benedetti , Antonella De Luca , Luigina Romani , Paolo Lionetti , Duccio Cavalieri bioRxiv 001891; doi: https://doi.org/10.1101/001891 Share This Article: Copy Citation Tools Population genomics of Saccharomyces cerevisiae human isolates: passengers, colonizers, invaders Carlotta De Filippo , Monica Di Paola , Irene Stefanini , Lisa Rizzetto , Luisa Berná , Matteo Ramazzotti , Leonardo Dapporto , Damariz Rivero , Ivo G. Gut , Marta Gut , Mónica Bayés ,', metadata={'source': 'articles/10.1101_001891.txt'}), Document(page_content='South Wales National Parks and Wildlife Service for the use of facilities, and especially to Mark Ooi for his help. Kate Langdon and Simon Rowe helped with the fieldwork. The sampling was carried out under licences from the New South Wales National Parks and Wildlife Service and the Sydney Catchment Authority. References ↵ Benson , D.H. ( 1985 ) Maturation periods for fire-sensitive shrub species in Hawkesbury Sandstone vegetation . Cunninghamia 1 , 339 – 349 . OpenUrl ↵ Bond , W.J. ( 1985 ). Canopy-stored seed reserves (serotiny) in Cape Proteaceae . South African Journal of Botany 51 , 181 – 186 . OpenUrl ↵ Bradstock , R.A. & Myerscough , P.J. ( 1981 ) Fire effects on seed release and the emergence and establishment of seedlings in Banksia ericifolia L.f . Australian Journal of Botany 29 , 521 – 532 . OpenUrl ↵ Bradstock , R.A. & O’Connell , M.A. ( 1988 ) Demography of woody plants in relation to fire: Banksia ericifolia L.f. and Petrophile pulchella (Shrad.) R.Br. Australian', metadata={'source': 'articles/10.1101_001867.txt'})]\n"
     ]
    }
   ],
   "source": [
    "# Making a retriever\n",
    "def retriever():\n",
    "    retriever = db.as_retriever(search_kwargs={\"k\": 20})\n",
    "    docs = retriever.get_relevant_documents(query) # Here we are filtering documents with similar meaning to the query\n",
    "    return docs\n",
    "docs = retriever()\n",
    "print(docs)"
   ]
  },
  {
   "cell_type": "code",
   "execution_count": 39,
   "metadata": {},
   "outputs": [
    {
     "name": "stdout",
     "output_type": "stream",
     "text": [
      "Relevant Docs: Doi: 10.1101/001867 \n",
      "Relevant Docs: Doi: 10.1101/001891 \n"
     ]
    }
   ],
   "source": [
    "def print_sources(documents):\n",
    "    seen_dois = set()  # A set to keep track of DOIs that have already been printed\n",
    "\n",
    "    for doc in documents:\n",
    "        \n",
    "        # Extract the 'source' from the document's metadata\n",
    "        source = doc.metadata['source']\n",
    "        \n",
    "        # Extract the DOI part from the 'source'\n",
    "        parts = source.split('/')[1].split('.')  # Split into parts by '.' after 'articles/'\n",
    "        doi = '.'.join(parts[:-1])  # Join all parts except the last one ('txt')\n",
    "\n",
    "        # Replace underscore with slash in DOI\n",
    "        doi = doi.replace('_', '/')\n",
    "\n",
    "        # Print the DOI if it hasn't been seen before\n",
    "\n",
    "        if doi not in seen_dois:\n",
    "            print( f'Relevant Docs: Doi: {doi} ')\n",
    "            seen_dois.add(doi)  # Add the DOI to the set of seen DOIs\n",
    "\n",
    "\n",
    "print_sources(docs)\n"
   ]
  },
  {
   "cell_type": "code",
   "execution_count": 40,
   "metadata": {
    "scrolled": true
   },
   "outputs": [],
   "source": [
    "# Set your OpenAI API key here\n",
    "OPENAI_API_KEY = os.getenv('openai_api_key')\n",
    "from openai import OpenAI\n",
    "\n",
    "client = OpenAI(\n",
    "    api_key=OPENAI_API_KEY\n",
    ")\n",
    "\n",
    "\n",
    "def summarize_query(query, documents):\n",
    "    # Construct the conversation\n",
    "    messages = [{\"role\": \"system\",\n",
    "                 \"content\": \"\"\"\n",
    "                 You are a helpful research assistant.Summarize ONLY from the documents given to answer the question. \n",
    "                 Dont generate or add your own content. If there is no answer in the documents just say there is no\n",
    "                 answer in the available documents. I insist dont generate your own content\n",
    "                    \"\"\"\n",
    "                }]\n",
    "    for doc in documents:\n",
    "        content = doc.page_content if hasattr(doc, 'page_content') else ''\n",
    "        messages.append({\"role\": \"user\", \"content\": content})\n",
    "    messages.append({\"role\": \"user\", \"content\": query})\n",
    "\n",
    "    # Make the API call\n",
    "    try:\n",
    "        response = client.chat.completions.create(\n",
    "            model=\"gpt-4-1106-preview\",\n",
    "            messages=messages,\n",
    "            temperature=0.7  # creativity\n",
    "        )\n",
    "        return response.choices[0].message.content\n",
    "    except Exception as e:\n",
    "        print(f\"An error occurred: {e}\")\n",
    "        return None\n",
    "\n",
    "\n"
   ]
  },
  {
   "cell_type": "code",
   "execution_count": 42,
   "metadata": {},
   "outputs": [
    {
     "name": "stdout",
     "output_type": "stream",
     "text": [
      "The tRNA genes in Metazoan mitochondria have proved to be problematic because they often vary in number, with some genes missing or duplicated, and also vary in the secondary structure of the transcribed tRNAs, including missing T or D arms. This variability makes it difficult to locate all of the genes within the mitogenome and to precisely annotate their 5′ and 3′ boundaries. The standard cloverleaf-shaped secondary structure may lack one of the cloverleaf arms, and the structure and number of tRNAs can differ both between tRNA types and between taxonomic groups. Additionally, this variability has led to a lack of understanding of how these mitochondrial tRNAs function compared to the more standardized nuclear tRNAs. Such problems with annotation and identification of tRNA genes result in missed genes, wrongly annotated locations, false complements, and inconsistent criteria for assigning the 5′ and 3′ boundaries in the databased mitogenome sequences.\n",
      "Relevant Docs: Doi: 10.1101/001875 \n"
     ]
    }
   ],
   "source": [
    "#Testing with an excerpt from one of the documents\n",
    "excerp = \"\"\"Unfortunately, tRNA genes in Metazoan mitochondria have proved to be problematic because they often vary in number\n",
    "(genes missing or duplicated) and also in the secondary structure of the transcribed tRNAs (T or D arms missing)\n",
    "\"\"\"\n",
    "query = 'Why have tRNA genes in Metazoan mitochondria have proved to be problematic'\n",
    "docs = retriever()\n",
    "summary = summarize_query(query, documents=docs)\n",
    "print(summary)\n",
    "print_sources(docs)"
   ]
  },
  {
   "cell_type": "code",
   "execution_count": 45,
   "metadata": {
    "scrolled": true
   },
   "outputs": [
    {
     "name": "stdout",
     "output_type": "stream",
     "text": [
      "There is no answer in the available documents.\n",
      "Relevant Docs: Doi: 10.1101/001867 \n",
      "Relevant Docs: Doi: 10.1101/001891 \n"
     ]
    }
   ],
   "source": [
    "query =  \"which year was Elon Musk born?\"\n",
    "docs = retriever()\n",
    "summary = summarize_query(query, documents=docs)\n",
    "print(summary)\n",
    "print_sources(docs)"
   ]
  },
  {
   "cell_type": "code",
   "execution_count": 47,
   "metadata": {},
   "outputs": [
    {
     "name": "stdout",
     "output_type": "stream",
     "text": [
      "There is no answer in the available documents.\n",
      "Relevant Docs: Doi: 10.1101/001891 \n",
      "Relevant Docs: Doi: 10.1101/001867 \n",
      "Relevant Docs: Doi: 10.1101/001818 \n",
      "Relevant Docs: Doi: 10.1101/001875 \n"
     ]
    }
   ],
   "source": [
    "# Asking a new question\n",
    "query =  \" \"  # and hit run                                                     \n",
    "docs = retriever()\n",
    "summary = summarize_query(query, documents=docs)\n",
    "print(summary)\n",
    "print_sources(docs)  # and hit run"
   ]
  },
  {
   "cell_type": "code",
   "execution_count": 16,
   "metadata": {
    "executionInfo": {
     "elapsed": 132,
     "status": "ok",
     "timestamp": 1704853060014,
     "user": {
      "displayName": "Ahmad Borzou",
      "userId": "12597026365140090461"
     },
     "user_tz": 360
    },
    "id": "UvQ8huznHB1O"
   },
   "outputs": [],
   "source": [
    "# Write article to file\n",
    "with open(\"article.html\",\"w\") as file:\n",
    "  file.write(str(response.content))"
   ]
  },
  {
   "cell_type": "code",
   "execution_count": null,
   "metadata": {
    "id": "KgOZ9IPc4Cmb"
   },
   "outputs": [],
   "source": []
  },
  {
   "cell_type": "code",
   "execution_count": 17,
   "metadata": {
    "id": "PwhTV2SgwHCw"
   },
   "outputs": [],
   "source": [
    "# installs\n",
    "#pip install langchain tiktoken openai langchainhub chromadb "
   ]
  }
 ],
 "metadata": {
  "colab": {
   "authorship_tag": "ABX9TyM8RytwSYjFeRPjar3epypy",
   "provenance": []
  },
  "kernelspec": {
   "display_name": "Python 3 (ipykernel)",
   "language": "python",
   "name": "python3"
  },
  "language_info": {
   "codemirror_mode": {
    "name": "ipython",
    "version": 3
   },
   "file_extension": ".py",
   "mimetype": "text/x-python",
   "name": "python",
   "nbconvert_exporter": "python",
   "pygments_lexer": "ipython3",
   "version": "3.11.4"
  }
 },
 "nbformat": 4,
 "nbformat_minor": 4
}
